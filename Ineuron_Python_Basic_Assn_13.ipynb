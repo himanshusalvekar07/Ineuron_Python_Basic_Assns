{
 "cells": [
  {
   "cell_type": "markdown",
   "id": "2b3df1ee",
   "metadata": {},
   "source": [
    "What advantages do Excel spreadsheets have over CSV spreadsheets?"
   ]
  },
  {
   "cell_type": "code",
   "execution_count": null,
   "id": "8bb0e8f2",
   "metadata": {},
   "outputs": [],
   "source": [
    "In Excel, spreadsheets can have values of datatypes other than strings; cells can have different fonts, sizes, or color\n",
    "settings; cells can have varying widths and heights; adjecent cells can be merged; and we can embed images and charts."
   ]
  },
  {
   "cell_type": "markdown",
   "id": "75d8419c",
   "metadata": {},
   "source": [
    "What do you pass to csv.reader() and csv.writer() to create reader and writer objects?"
   ]
  },
  {
   "cell_type": "code",
   "execution_count": null,
   "id": "b92eeeaa",
   "metadata": {},
   "outputs": [],
   "source": [
    "We pass a file object, obtained from call to open()."
   ]
  },
  {
   "cell_type": "markdown",
   "id": "fcc0e36a",
   "metadata": {},
   "source": [
    "What modes do File objects for reader and writer objects need to be opened in?"
   ]
  },
  {
   "cell_type": "code",
   "execution_count": null,
   "id": "4fdea663",
   "metadata": {},
   "outputs": [],
   "source": [
    "File objects need to be opened in read-binary ('rb') for reader objects and write-binary ('wb') fro writer objects."
   ]
  },
  {
   "cell_type": "markdown",
   "id": "cb8fc512",
   "metadata": {},
   "source": [
    "What method takes a list argument and writes it to a CSV file?"
   ]
  },
  {
   "cell_type": "code",
   "execution_count": null,
   "id": "34da2fd5",
   "metadata": {},
   "outputs": [],
   "source": [
    "The writerrow() method."
   ]
  },
  {
   "cell_type": "markdown",
   "id": "34ee919d",
   "metadata": {},
   "source": [
    "What do the keyword arguments delimiter and line terminator do?"
   ]
  },
  {
   "cell_type": "code",
   "execution_count": null,
   "id": "e29bfa4f",
   "metadata": {},
   "outputs": [],
   "source": [
    "The delimeter argument change the string used to separate cells in a row. The lineterminator argument changes the string \n",
    "used to separate rows."
   ]
  },
  {
   "cell_type": "markdown",
   "id": "5e3dedd5",
   "metadata": {},
   "source": [
    "What function takes a string of JSON data and returns a Python data structure?"
   ]
  },
  {
   "cell_type": "code",
   "execution_count": null,
   "id": "10e06499",
   "metadata": {},
   "outputs": [],
   "source": [
    "json.loads()"
   ]
  },
  {
   "cell_type": "markdown",
   "id": "e9b9c5bf",
   "metadata": {},
   "source": [
    "What function takes a Python data structure and returns a string of JSON data?"
   ]
  },
  {
   "cell_type": "code",
   "execution_count": null,
   "id": "92c6be0c",
   "metadata": {},
   "outputs": [],
   "source": [
    "json.dumps()"
   ]
  }
 ],
 "metadata": {
  "kernelspec": {
   "display_name": "Python 3",
   "language": "python",
   "name": "python3"
  },
  "language_info": {
   "codemirror_mode": {
    "name": "ipython",
    "version": 3
   },
   "file_extension": ".py",
   "mimetype": "text/x-python",
   "name": "python",
   "nbconvert_exporter": "python",
   "pygments_lexer": "ipython3",
   "version": "3.8.8"
  }
 },
 "nbformat": 4,
 "nbformat_minor": 5
}
