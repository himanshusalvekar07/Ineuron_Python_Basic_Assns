{
 "cells": [
  {
   "cell_type": "markdown",
   "id": "cd2da2e6",
   "metadata": {},
   "source": [
    "Write a Python program to Extract Unique values dictionary values?"
   ]
  },
  {
   "cell_type": "code",
   "execution_count": 2,
   "id": "934b0aae",
   "metadata": {},
   "outputs": [
    {
     "name": "stdout",
     "output_type": "stream",
     "text": [
      "{'cherry', 'potato', 'apple'}\n"
     ]
    }
   ],
   "source": [
    "def unique(dict):\n",
    "    values = set([value for value in dict.values()])\n",
    "    print(values)\n",
    "\n",
    "d = {1:\"apple\",2:\"potato\",3:\"apple\",4:\"cherry\"}\n",
    "unique(d)"
   ]
  },
  {
   "cell_type": "markdown",
   "id": "8130a87e",
   "metadata": {},
   "source": [
    "Write a Python program to find the sum of all items in a dictionary?"
   ]
  },
  {
   "cell_type": "code",
   "execution_count": 1,
   "id": "a6b3a7c7",
   "metadata": {},
   "outputs": [
    {
     "name": "stdout",
     "output_type": "stream",
     "text": [
      "10\n"
     ]
    }
   ],
   "source": [
    "def unique(dict):\n",
    "    values = sum([value for value in dict.keys()])\n",
    "    print(values)\n",
    "\n",
    "d = {1:\"apple\",2:\"potato\",3:\"apple\",4:\"cherry\"}\n",
    "unique(d)"
   ]
  },
  {
   "cell_type": "markdown",
   "id": "dab46e2e",
   "metadata": {},
   "source": [
    "Write a Python program to Merging two Dictionaries?"
   ]
  },
  {
   "cell_type": "code",
   "execution_count": null,
   "id": "24ef9e9f",
   "metadata": {},
   "outputs": [],
   "source": [
    "d = {1:\"apple\",2:\"potato\"}\n",
    "d2 = {3:\"apple\",4:\"cherry\"}\n",
    "for i in d2.keys():\n",
    "    d[i]=d2[i]\n",
    "print(d)"
   ]
  }
 ],
 "metadata": {
  "kernelspec": {
   "display_name": "Python 3 (ipykernel)",
   "language": "python",
   "name": "python3"
  },
  "language_info": {
   "codemirror_mode": {
    "name": "ipython",
    "version": 3
   },
   "file_extension": ".py",
   "mimetype": "text/x-python",
   "name": "python",
   "nbconvert_exporter": "python",
   "pygments_lexer": "ipython3",
   "version": "3.9.13"
  }
 },
 "nbformat": 4,
 "nbformat_minor": 5
}
