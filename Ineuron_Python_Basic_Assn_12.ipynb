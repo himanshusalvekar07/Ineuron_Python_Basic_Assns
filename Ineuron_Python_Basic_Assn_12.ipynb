{
 "cells": [
  {
   "cell_type": "markdown",
   "id": "f4f2f588",
   "metadata": {},
   "source": [
    "In what modes should the PdfFileReader() and PdfFileWriter() File objects will be opened?"
   ]
  },
  {
   "cell_type": "code",
   "execution_count": null,
   "id": "cde93b16",
   "metadata": {},
   "outputs": [],
   "source": [
    "PdfFileReader() needs to be opened in read-binary mode by passing 'rb' as the second argument to open(). Likewise, the File\n",
    "object passed to PyPDF2. PdfFileWriter() needs to be opened in write-binary mode with 'wb'."
   ]
  },
  {
   "cell_type": "markdown",
   "id": "3f82c844",
   "metadata": {},
   "source": [
    "From a PdfFileReader object, how do you get a Page object for page 5?"
   ]
  },
  {
   "cell_type": "code",
   "execution_count": null,
   "id": "c4887c63",
   "metadata": {},
   "outputs": [],
   "source": [
    "Calling getPage(4) will return a page object for page 5, since page 0 is the first page"
   ]
  },
  {
   "cell_type": "markdown",
   "id": "b479ba9e",
   "metadata": {},
   "source": [
    "What PdfFileReader variable stores the number of pages in the PDF document?"
   ]
  },
  {
   "cell_type": "code",
   "execution_count": null,
   "id": "b42ac1c4",
   "metadata": {},
   "outputs": [],
   "source": [
    "The total number of pages in the document is stored in the numPages variable of a PdfFileReader object."
   ]
  },
  {
   "cell_type": "markdown",
   "id": "686f9aec",
   "metadata": {},
   "source": [
    "If a PdfFileReader object’s PDF is encrypted with the password swordfish, what must you do before you can obtain Page objects from it?"
   ]
  },
  {
   "cell_type": "code",
   "execution_count": null,
   "id": "f4bb8833",
   "metadata": {},
   "outputs": [],
   "source": [
    "To read an encrypted PDF, call the decrypt() function and pass the password as a string, in our case it is swordfish. After \n",
    "we call decrypt() with the correct password, you’ll see that calling getPage() no longer causes an error. Call \n",
    "decrypt('swordfish')."
   ]
  },
  {
   "cell_type": "markdown",
   "id": "ea40da0d",
   "metadata": {},
   "source": [
    "What methods do you use to rotate a page?"
   ]
  },
  {
   "cell_type": "code",
   "execution_count": null,
   "id": "6f57316b",
   "metadata": {},
   "outputs": [],
   "source": [
    "The pages of a PDF can be rotated in 90-degree increments with the rotateClockwise() and rotateCounterClockwise() methods."
   ]
  },
  {
   "cell_type": "markdown",
   "id": "d2cf2a87",
   "metadata": {},
   "source": [
    "What is the difference between a Run object and a Paragraph object?"
   ]
  },
  {
   "cell_type": "code",
   "execution_count": null,
   "id": "fe4ce3d3",
   "metadata": {},
   "outputs": [],
   "source": [
    "A document contains multiple paragraphs. A paragraph begins on a new line and contains multiple runs. Runs are contiguous \n",
    "groups of charecters within a paragraph."
   ]
  },
  {
   "cell_type": "markdown",
   "id": "b083d942",
   "metadata": {},
   "source": [
    "How do you obtain a list of Paragraph objects for a Document object that’s stored in a variable named doc?"
   ]
  },
  {
   "cell_type": "code",
   "execution_count": null,
   "id": "937b16b2",
   "metadata": {},
   "outputs": [],
   "source": [
    "len(doc.paragraphs)"
   ]
  },
  {
   "cell_type": "markdown",
   "id": "3a5ef60d",
   "metadata": {},
   "source": [
    "What type of object has bold, underline, italic, strike, and outline variables?"
   ]
  },
  {
   "cell_type": "code",
   "execution_count": null,
   "id": "e7d3d563",
   "metadata": {},
   "outputs": [],
   "source": [
    "Run Object"
   ]
  },
  {
   "cell_type": "markdown",
   "id": "655cd2f8",
   "metadata": {},
   "source": [
    "What is the difference between False, True, and None for the bold variable?"
   ]
  },
  {
   "cell_type": "code",
   "execution_count": null,
   "id": "89bb9ad9",
   "metadata": {},
   "outputs": [],
   "source": [
    "True always makes the run object bolded and False makes it always not bolded, no matter what the style's bold settings is.\n",
    "None will make the Run object just use the style's bold settings."
   ]
  },
  {
   "cell_type": "markdown",
   "id": "bf2839d3",
   "metadata": {},
   "source": [
    "How do you create a Document object for a new Word document?"
   ]
  },
  {
   "cell_type": "code",
   "execution_count": null,
   "id": "f2f8b0fc",
   "metadata": {},
   "outputs": [],
   "source": [
    "mydoc = docx.Document()"
   ]
  },
  {
   "cell_type": "markdown",
   "id": "0726f983",
   "metadata": {},
   "source": [
    "How do you add a paragraph with the text 'Hello, there!' to a Document object stored in a variable named doc?"
   ]
  },
  {
   "cell_type": "code",
   "execution_count": null,
   "id": "a2afb175",
   "metadata": {},
   "outputs": [],
   "source": [
    "doc.add_paragraph('Hello, there!')"
   ]
  },
  {
   "cell_type": "markdown",
   "id": "5bd2a022",
   "metadata": {},
   "source": [
    "What integers represent the levels of headings available in Word documents?"
   ]
  },
  {
   "cell_type": "code",
   "execution_count": null,
   "id": "95f25b69",
   "metadata": {},
   "outputs": [],
   "source": [
    "The arguments to add_heading() are a string of the heading text and an integer from 0 to 4. The integer 0 makes the heading\n",
    "the Title style, which is used for the top of the document. Integers 1 to 4 are for various heading levels, with 1 being\n",
    "the main heading and 4 the lowest subheading. The add_heading() function returns a Paragraph object to save you the step of \n",
    "extracting it from the Document object as a separate step."
   ]
  }
 ],
 "metadata": {
  "kernelspec": {
   "display_name": "Python 3",
   "language": "python",
   "name": "python3"
  },
  "language_info": {
   "codemirror_mode": {
    "name": "ipython",
    "version": 3
   },
   "file_extension": ".py",
   "mimetype": "text/x-python",
   "name": "python",
   "nbconvert_exporter": "python",
   "pygments_lexer": "ipython3",
   "version": "3.8.8"
  }
 },
 "nbformat": 4,
 "nbformat_minor": 5
}
