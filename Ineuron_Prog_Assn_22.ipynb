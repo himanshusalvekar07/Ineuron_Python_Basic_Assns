{
 "cells": [
  {
   "cell_type": "markdown",
   "id": "b61c1f21",
   "metadata": {},
   "source": [
    "Question1 Create a function that takes three parameters where:  x is the start of the range (inclusive).  y is the end of the range (inclusive).  n is the divisor to be checked against. Return an ordered list with numbers in the range that are divisible by the third parameter n. Return an empty list if there are no numbers that are divisible by n."
   ]
  },
  {
   "cell_type": "code",
   "execution_count": 1,
   "id": "22cd58d9",
   "metadata": {},
   "outputs": [
    {
     "name": "stdout",
     "output_type": "stream",
     "text": [
      "[3, 6, 9]\n"
     ]
    }
   ],
   "source": [
    "def list_operation(x,y,n):\n",
    "    result = []\n",
    "    for i in range(x,y+1):\n",
    "        if i %n == 0:\n",
    "            result.append(i)\n",
    "    return result\n",
    "\n",
    "print(list_operation(1, 10, 3))"
   ]
  },
  {
   "cell_type": "markdown",
   "id": "ca8c968c",
   "metadata": {},
   "source": [
    "Question2 Create a function that takes in two lists and returns True if the second list follows the first list by one element, and False otherwise. In other words, determine if the second list is the first list shifted to the right by 1."
   ]
  },
  {
   "cell_type": "code",
   "execution_count": 2,
   "id": "9b9ea41d",
   "metadata": {},
   "outputs": [
    {
     "name": "stdout",
     "output_type": "stream",
     "text": [
      "True\n"
     ]
    }
   ],
   "source": [
    "\n",
    "\n",
    "def simon_says(lst1, lst2):\n",
    "    return lst1[:len(lst1)-1]==lst2[1:]\n",
    "\n",
    "\n",
    "print(simon_says([1, 2, 3, 4, 5], [0, 1, 2, 3, 4]))"
   ]
  },
  {
   "cell_type": "markdown",
   "id": "cf37fdf5",
   "metadata": {},
   "source": [
    "Question3 A group of friends have decided to start a secret society. The name will be the first letter of each of their names, sorted in alphabetical order. Create a function that takes in a list of names and returns the name of the secret society."
   ]
  },
  {
   "cell_type": "code",
   "execution_count": 3,
   "id": "b10d6f25",
   "metadata": {},
   "outputs": [],
   "source": [
    "def society_name(lst1):\n",
    "    result = []\n",
    "    for i in lst1:\n",
    "        result.append(i[0])\n",
    "    result.sort()\n",
    "    return \"\".join(result)"
   ]
  },
  {
   "cell_type": "code",
   "execution_count": 4,
   "id": "d5503541",
   "metadata": {},
   "outputs": [
    {
     "name": "stdout",
     "output_type": "stream",
     "text": [
      "AMS\n"
     ]
    }
   ],
   "source": [
    "print(society_name([\"Adam\",\"Sarah\",\"Malcolm\"]))"
   ]
  },
  {
   "cell_type": "markdown",
   "id": "b57f6e82",
   "metadata": {},
   "source": [
    "\n",
    "Question4 An isogram is a word that has no duplicate letters. Create a function that takes a string and returns either True or False depending on whether or not it's an \"isogram\"."
   ]
  },
  {
   "cell_type": "code",
   "execution_count": 5,
   "id": "d01e8f6c",
   "metadata": {},
   "outputs": [
    {
     "name": "stdout",
     "output_type": "stream",
     "text": [
      "True\n"
     ]
    }
   ],
   "source": [
    "def is_isogram(word):\n",
    "    word = word.lower()\n",
    "    for i in word:\n",
    "        if word.count(i)>1:\n",
    "            return False\n",
    "    else:\n",
    "        return True\n",
    "\n",
    "\n",
    "print(is_isogram(\"Algorism\"))"
   ]
  },
  {
   "cell_type": "markdown",
   "id": "15843bae",
   "metadata": {},
   "source": [
    "Question5 Create a function that takes a string and returns True or False, depending on whether the characters are in order or no"
   ]
  },
  {
   "cell_type": "code",
   "execution_count": null,
   "id": "9ba7a0b7",
   "metadata": {},
   "outputs": [],
   "source": []
  }
 ],
 "metadata": {
  "kernelspec": {
   "display_name": "Python 3 (ipykernel)",
   "language": "python",
   "name": "python3"
  },
  "language_info": {
   "codemirror_mode": {
    "name": "ipython",
    "version": 3
   },
   "file_extension": ".py",
   "mimetype": "text/x-python",
   "name": "python",
   "nbconvert_exporter": "python",
   "pygments_lexer": "ipython3",
   "version": "3.9.13"
  }
 },
 "nbformat": 4,
 "nbformat_minor": 5
}
