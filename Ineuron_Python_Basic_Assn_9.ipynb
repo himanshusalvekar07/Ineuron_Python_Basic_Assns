{
 "cells": [
  {
   "cell_type": "markdown",
   "id": "ecc2c742",
   "metadata": {},
   "source": [
    "To what does a relative path refer?"
   ]
  },
  {
   "cell_type": "code",
   "execution_count": null,
   "id": "6b61cd7a",
   "metadata": {},
   "outputs": [],
   "source": [
    "Relative paths are relative to the current working directory."
   ]
  },
  {
   "cell_type": "markdown",
   "id": "f09efec4",
   "metadata": {},
   "source": [
    "2] What does an absolute path start with your operating system?"
   ]
  },
  {
   "cell_type": "code",
   "execution_count": null,
   "id": "461c381c",
   "metadata": {},
   "outputs": [],
   "source": [
    "Absolute paths start with the root folder, such as / or C:. An absolute path always contains the root elements and the \n",
    "complete list of directories to locate the specific file or folder. All the information required to locate the file or \n",
    "folder is available in the absolute path."
   ]
  },
  {
   "cell_type": "markdown",
   "id": "0042469b",
   "metadata": {},
   "source": [
    "3]What do the functions os.getcwd() and os.chdir() do?"
   ]
  },
  {
   "cell_type": "code",
   "execution_count": null,
   "id": "f01da4e2",
   "metadata": {},
   "outputs": [],
   "source": [
    "The os.getcwd() function returns the current working directory. The os.chdir() function changes the current working \n",
    "directory."
   ]
  },
  {
   "cell_type": "markdown",
   "id": "cbcbbef5",
   "metadata": {},
   "source": [
    "4]What are the . and .. folders?"
   ]
  },
  {
   "cell_type": "code",
   "execution_count": null,
   "id": "5fe35cb5",
   "metadata": {},
   "outputs": [],
   "source": [
    "The . folder is the current folder, and .. is the parent folder."
   ]
  },
  {
   "cell_type": "markdown",
   "id": "c55f1b54",
   "metadata": {},
   "source": [
    "5] In C:\\bacon\\eggs\\spam.txt, which part is the dir name, and which part is the base name?"
   ]
  },
  {
   "cell_type": "code",
   "execution_count": null,
   "id": "7a54ef9a",
   "metadata": {},
   "outputs": [],
   "source": [
    "C:\\bacon\\eggs is the dir name, while spam.txt is the base name."
   ]
  },
  {
   "cell_type": "markdown",
   "id": "ed6a848f",
   "metadata": {},
   "source": [
    "6] What are the three “mode” arguments that can be passed to the open() function"
   ]
  },
  {
   "cell_type": "code",
   "execution_count": null,
   "id": "09defbbc",
   "metadata": {},
   "outputs": [],
   "source": [
    "The string 'r' for read mode, 'w' for write mode, and 'a' for append mode"
   ]
  },
  {
   "cell_type": "markdown",
   "id": "7cbfd6a6",
   "metadata": {},
   "source": [
    "7]What are the three “mode” arguments that can be passed to the open() function?"
   ]
  },
  {
   "cell_type": "code",
   "execution_count": null,
   "id": "7fcbdc73",
   "metadata": {},
   "outputs": [],
   "source": [
    "The string 'r' for read mode, 'w' for write mode, and 'a' for append mode"
   ]
  },
  {
   "cell_type": "markdown",
   "id": "7c94dfeb",
   "metadata": {},
   "source": [
    "8]How do you tell the difference between read() and readlines()?"
   ]
  },
  {
   "cell_type": "code",
   "execution_count": null,
   "id": "da810128",
   "metadata": {},
   "outputs": [],
   "source": [
    "The read() method returns the file's entire contents as a single string value. The readlines() method returns a list of \n",
    "strings, where each string is a line from the file's contents."
   ]
  },
  {
   "cell_type": "markdown",
   "id": "b9f5ebc6",
   "metadata": {},
   "source": [
    "9]What data structure does a shelf value resemble?"
   ]
  },
  {
   "cell_type": "code",
   "execution_count": null,
   "id": "ac715b0f",
   "metadata": {},
   "outputs": [],
   "source": [
    "A shelf value resembles a dictionary value; it has keys and values, along with keys() and values() methods that work \n",
    "similarly to the dictionary methods of the same names."
   ]
  }
 ],
 "metadata": {
  "kernelspec": {
   "display_name": "Python 3",
   "language": "python",
   "name": "python3"
  },
  "language_info": {
   "codemirror_mode": {
    "name": "ipython",
    "version": 3
   },
   "file_extension": ".py",
   "mimetype": "text/x-python",
   "name": "python",
   "nbconvert_exporter": "python",
   "pygments_lexer": "ipython3",
   "version": "3.8.8"
  }
 },
 "nbformat": 4,
 "nbformat_minor": 5
}
