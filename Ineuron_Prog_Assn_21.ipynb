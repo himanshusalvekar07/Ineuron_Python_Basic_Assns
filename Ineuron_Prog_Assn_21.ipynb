{
 "cells": [
  {
   "cell_type": "markdown",
   "id": "9e59bec2",
   "metadata": {},
   "source": [
    "Question1 Write a function that takes a list and a number as arguments. Add the number to the end of the list, then remove the first element of the list. The function should then return the updated list."
   ]
  },
  {
   "cell_type": "code",
   "execution_count": 1,
   "id": "2d9d8d2a",
   "metadata": {},
   "outputs": [
    {
     "name": "stdout",
     "output_type": "stream",
     "text": [
      "[10, 20, 42, 6]\n"
     ]
    }
   ],
   "source": [
    "def next_in_line(lst,num):\n",
    "    if len(lst)!=0:\n",
    "        return lst[1:]+[num]\n",
    "    else:\n",
    "        return \"No list has been selected\"\n",
    "\n",
    "\n",
    "print(next_in_line([1, 10, 20, 42 ], 6))"
   ]
  },
  {
   "cell_type": "markdown",
   "id": "7f8276b7",
   "metadata": {},
   "source": [
    "\n",
    "Question2 Create the function that takes a list of dictionaries and returns the sum of people's budgets."
   ]
  },
  {
   "cell_type": "code",
   "execution_count": 2,
   "id": "6c53ea71",
   "metadata": {},
   "outputs": [
    {
     "name": "stdout",
     "output_type": "stream",
     "text": [
      "63000\n"
     ]
    }
   ],
   "source": [
    "\n",
    "def get_budget(lst):\n",
    "    total = 0\n",
    "    for i in lst:\n",
    "        total += i[\"budget\"]\n",
    "    return total\n",
    "\n",
    "\n",
    "print(get_budget([{\"name\":\"John\", \"age\": 21,\"budget\":23000 },{\"name\":\"Steve\", \"age\": 42,\"budget\":40000}]))"
   ]
  },
  {
   "cell_type": "markdown",
   "id": "93b33a91",
   "metadata": {},
   "source": [
    "Question3 Create a function that takes a string and returns a string with its letters in alphabetical order."
   ]
  },
  {
   "cell_type": "code",
   "execution_count": 4,
   "id": "23c35dc2",
   "metadata": {},
   "outputs": [
    {
     "name": "stdout",
     "output_type": "stream",
     "text": [
      "ehllo\n"
     ]
    }
   ],
   "source": [
    "def alphabet_soup(word):\n",
    "\n",
    "    return \"\".join(sorted(word))\n",
    "\n",
    "print(alphabet_soup(\"hello\"))"
   ]
  },
  {
   "cell_type": "code",
   "execution_count": null,
   "id": "956f7586",
   "metadata": {},
   "outputs": [],
   "source": []
  }
 ],
 "metadata": {
  "kernelspec": {
   "display_name": "Python 3 (ipykernel)",
   "language": "python",
   "name": "python3"
  },
  "language_info": {
   "codemirror_mode": {
    "name": "ipython",
    "version": 3
   },
   "file_extension": ".py",
   "mimetype": "text/x-python",
   "name": "python",
   "nbconvert_exporter": "python",
   "pygments_lexer": "ipython3",
   "version": "3.9.13"
  }
 },
 "nbformat": 4,
 "nbformat_minor": 5
}
