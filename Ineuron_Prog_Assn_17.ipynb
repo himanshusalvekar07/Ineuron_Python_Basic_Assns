{
 "cells": [
  {
   "cell_type": "markdown",
   "id": "d6194f88",
   "metadata": {},
   "source": [
    "Question1. Create a function that takes three arguments a, b, c and returns the sum of the numbers that are evenly divided by c from the range a, b inclusive."
   ]
  },
  {
   "cell_type": "code",
   "execution_count": 1,
   "id": "80cbfba3",
   "metadata": {},
   "outputs": [],
   "source": [
    "def evenly_divisible(a, b, c):\n",
    "    total = 0\n",
    "    for i in range(a,b+1):\n",
    "        if i%c==0:\n",
    "            total += i\n",
    "    return total"
   ]
  },
  {
   "cell_type": "code",
   "execution_count": 2,
   "id": "c68e6f80",
   "metadata": {},
   "outputs": [
    {
     "name": "stdout",
     "output_type": "stream",
     "text": [
      "18\n"
     ]
    }
   ],
   "source": [
    "print(evenly_divisible(1,10,3))"
   ]
  },
  {
   "cell_type": "markdown",
   "id": "3a53bdcb",
   "metadata": {},
   "source": [
    "Question2. Create a function that returns True if a given inequality expression is correct and False otherwise."
   ]
  },
  {
   "cell_type": "code",
   "execution_count": 3,
   "id": "71a58c99",
   "metadata": {},
   "outputs": [
    {
     "name": "stdout",
     "output_type": "stream",
     "text": [
      "True\n"
     ]
    }
   ],
   "source": [
    "def correct_signs(expression):\n",
    "    expression = expression.split()\n",
    "    for i in range(1, len(expression)-1, 2):\n",
    "        if expression[i] == \"<\" and not (int(expression[i-1]) < int(expression[i+1])):\n",
    "            return False\n",
    "        if expression[i] == \">\" and not (int(expression[i-1]) > int(expression[i+1])):\n",
    "            return False\n",
    "        \n",
    "    return True\n",
    "\n",
    "\n",
    "print(correct_signs(\"1 < 2 < 6 < 9 > 3\"))"
   ]
  },
  {
   "cell_type": "markdown",
   "id": "05b1e7e0",
   "metadata": {},
   "source": [
    "Question3. Create a function that replaces all the vowels in a string with a specified character."
   ]
  },
  {
   "cell_type": "code",
   "execution_count": 4,
   "id": "ad5071bc",
   "metadata": {},
   "outputs": [
    {
     "name": "stdout",
     "output_type": "stream",
     "text": [
      "m?nn?? m??s?\n"
     ]
    }
   ],
   "source": [
    "def replace_vowels(sentence, symbol):\n",
    "    for i in sentence:\n",
    "        if i in \"aeiou\":\n",
    "            sentence = sentence.replace(i,symbol)\n",
    "    return sentence\n",
    "\n",
    "\n",
    "print(replace_vowels(\"minnie mouse\", \"?\"))"
   ]
  },
  {
   "cell_type": "code",
   "execution_count": null,
   "id": "cd0821eb",
   "metadata": {},
   "outputs": [],
   "source": [
    "Question4. Write a function that calculates the factorial of a number recursively."
   ]
  }
 ],
 "metadata": {
  "kernelspec": {
   "display_name": "Python 3 (ipykernel)",
   "language": "python",
   "name": "python3"
  },
  "language_info": {
   "codemirror_mode": {
    "name": "ipython",
    "version": 3
   },
   "file_extension": ".py",
   "mimetype": "text/x-python",
   "name": "python",
   "nbconvert_exporter": "python",
   "pygments_lexer": "ipython3",
   "version": "3.9.13"
  }
 },
 "nbformat": 4,
 "nbformat_minor": 5
}
