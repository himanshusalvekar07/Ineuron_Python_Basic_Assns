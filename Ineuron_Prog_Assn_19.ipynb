{
 "cells": [
  {
   "cell_type": "markdown",
   "id": "f525e0bf",
   "metadata": {},
   "source": [
    "\n",
    "Question1 Create a function that takes a string and returns a string in which each character is repeated once."
   ]
  },
  {
   "cell_type": "code",
   "execution_count": 1,
   "id": "22f55710",
   "metadata": {},
   "outputs": [
    {
     "name": "stdout",
     "output_type": "stream",
     "text": [
      "SSttrriinngg\n"
     ]
    }
   ],
   "source": [
    "def double_char(string1):\n",
    "    result = \"\"\n",
    "    for i in string1:\n",
    "        result += i*2\n",
    "\n",
    "    return result\n",
    "\n",
    "\n",
    "print(double_char(\"String\"))"
   ]
  },
  {
   "cell_type": "markdown",
   "id": "3c8ba167",
   "metadata": {},
   "source": [
    "Question2 Create a function that reverses a boolean value and returns the string \"boolean expected\" if another variable type is given."
   ]
  },
  {
   "cell_type": "code",
   "execution_count": 3,
   "id": "e3164d5c",
   "metadata": {},
   "outputs": [
    {
     "name": "stdout",
     "output_type": "stream",
     "text": [
      "False\n"
     ]
    }
   ],
   "source": [
    "def reverse(val):\n",
    "    if val:\n",
    "        return not val\n",
    "    elif not val:\n",
    "        return not val\n",
    "    else:\n",
    "        return \"Boolean expected\"\n",
    "\n",
    "\n",
    "print(reverse(True))"
   ]
  },
  {
   "cell_type": "markdown",
   "id": "06167eb9",
   "metadata": {},
   "source": [
    "Question3 Create a function that returns the thickness (in meters) of a piece of paper after folding it n number of times. The paper starts off with a thickness of 0.5mm."
   ]
  },
  {
   "cell_type": "code",
   "execution_count": 4,
   "id": "c65faa28",
   "metadata": {},
   "outputs": [
    {
     "name": "stdout",
     "output_type": "stream",
     "text": [
      "1048.576m\n"
     ]
    }
   ],
   "source": [
    "def num_layers(n):\n",
    "    return str(0.5*2**n/1000)+\"m\"\n",
    "\n",
    "\n",
    "print(num_layers(21))"
   ]
  },
  {
   "cell_type": "markdown",
   "id": "b01f627a",
   "metadata": {},
   "source": [
    "Question4 Create a function that takes a single string as argument and returns an ordered list containing the indices of all capital letters in the string."
   ]
  },
  {
   "cell_type": "code",
   "execution_count": 6,
   "id": "04160336",
   "metadata": {},
   "outputs": [
    {
     "name": "stdout",
     "output_type": "stream",
     "text": [
      "[1, 3, 5]\n"
     ]
    }
   ],
   "source": [
    "def index_of_caps(string1):\n",
    "    result = []\n",
    "    for i in string1:\n",
    "        if i.isupper():\n",
    "            result.append(string1.index(i))\n",
    "    return result\n",
    "\n",
    "\n",
    "print(index_of_caps(\"eDaBiT\"))"
   ]
  },
  {
   "cell_type": "markdown",
   "id": "66a86b63",
   "metadata": {},
   "source": [
    "Question5 Using list comprehensions, create a function that finds all even numbers from 1 to the given number."
   ]
  },
  {
   "cell_type": "code",
   "execution_count": 7,
   "id": "d57e4394",
   "metadata": {},
   "outputs": [
    {
     "name": "stdout",
     "output_type": "stream",
     "text": [
      "[2, 4]\n"
     ]
    }
   ],
   "source": [
    "def find_even_nums(n):\n",
    "    return [i for i in range(2, n+1, 2)]\n",
    "\n",
    "\n",
    "print(find_even_nums(4))"
   ]
  },
  {
   "cell_type": "code",
   "execution_count": null,
   "id": "cb140dec",
   "metadata": {},
   "outputs": [],
   "source": []
  }
 ],
 "metadata": {
  "kernelspec": {
   "display_name": "Python 3 (ipykernel)",
   "language": "python",
   "name": "python3"
  },
  "language_info": {
   "codemirror_mode": {
    "name": "ipython",
    "version": 3
   },
   "file_extension": ".py",
   "mimetype": "text/x-python",
   "name": "python",
   "nbconvert_exporter": "python",
   "pygments_lexer": "ipython3",
   "version": "3.9.13"
  }
 },
 "nbformat": 4,
 "nbformat_minor": 5
}
