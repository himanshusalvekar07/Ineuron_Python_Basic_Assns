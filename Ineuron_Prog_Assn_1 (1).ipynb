{
 "cells": [
  {
   "cell_type": "code",
   "execution_count": null,
   "id": "e87a7411",
   "metadata": {},
   "outputs": [],
   "source": [
    "Ineuron_Programming_Assignment_1"
   ]
  },
  {
   "cell_type": "markdown",
   "id": "2ec9791e",
   "metadata": {},
   "source": [
    "1. Write a Python program to print \"Hello Python\"."
   ]
  },
  {
   "cell_type": "code",
   "execution_count": 1,
   "id": "5d7cc377",
   "metadata": {},
   "outputs": [
    {
     "name": "stdout",
     "output_type": "stream",
     "text": [
      "Hello Python\n"
     ]
    }
   ],
   "source": [
    "print('Hello Python')"
   ]
  },
  {
   "cell_type": "markdown",
   "id": "90d58939",
   "metadata": {},
   "source": [
    "2. Write a Python program to do arithmetical operations addition and division."
   ]
  },
  {
   "cell_type": "code",
   "execution_count": 2,
   "id": "57661215",
   "metadata": {},
   "outputs": [],
   "source": [
    "def arthm_ops(a,b):\n",
    "    z=a+b\n",
    "    x=a-b\n",
    "    c=a*b\n",
    "    v=a/b\n",
    "    print(f\"Addition:{z}\")\n",
    "    print(f\"subtraction:{x}\")\n",
    "    print(f\"Multiplication:{c}\")\n",
    "    print(f\"Division:{v}\")"
   ]
  },
  {
   "cell_type": "code",
   "execution_count": 3,
   "id": "4d475581",
   "metadata": {},
   "outputs": [
    {
     "name": "stdout",
     "output_type": "stream",
     "text": [
      "Addition:5\n",
      "subtraction:1\n",
      "Multiplication:6\n",
      "Division:1.5\n"
     ]
    }
   ],
   "source": [
    "arthm_ops(3,2)"
   ]
  },
  {
   "cell_type": "markdown",
   "id": "8f1fd3cb",
   "metadata": {},
   "source": [
    "3. Write a Python program to find the area of a triangle."
   ]
  },
  {
   "cell_type": "code",
   "execution_count": 32,
   "id": "7ac35475",
   "metadata": {},
   "outputs": [],
   "source": [
    "def ar_of_tri(b,h):\n",
    "    '''\n",
    "    This function gives the area of a triangle.\n",
    "    '''\n",
    "    area=0.5*b*h\n",
    "    return area\n",
    "  \n",
    "    \n",
    "    \n"
   ]
  },
  {
   "cell_type": "code",
   "execution_count": 34,
   "id": "500585e7",
   "metadata": {},
   "outputs": [
    {
     "data": {
      "text/plain": [
       "140.0"
      ]
     },
     "execution_count": 34,
     "metadata": {},
     "output_type": "execute_result"
    }
   ],
   "source": [
    "ar_of_tri(4,70)"
   ]
  },
  {
   "cell_type": "markdown",
   "id": "93975b49",
   "metadata": {},
   "source": [
    "4. Write a Python program to swap two variables."
   ]
  },
  {
   "cell_type": "code",
   "execution_count": 10,
   "id": "413d3cf8",
   "metadata": {},
   "outputs": [],
   "source": [
    "def swap_vars(x,y):\n",
    "    '''\n",
    "    This function swaps the values of any two variables\n",
    "    '''\n",
    "    x,y=y,x\n",
    "    print(f'Swapped value of x:{x}')\n",
    "    print(f'Swapped value of y:{y}')\n",
    "    "
   ]
  },
  {
   "cell_type": "code",
   "execution_count": 12,
   "id": "61844495",
   "metadata": {},
   "outputs": [
    {
     "name": "stdout",
     "output_type": "stream",
     "text": [
      "Swapped value of x:56\n",
      "Swapped value of y:34\n"
     ]
    }
   ],
   "source": [
    "swap_vars(34,56)"
   ]
  },
  {
   "cell_type": "markdown",
   "id": "8653fa8a",
   "metadata": {},
   "source": [
    "5. Write a Python program to generate a random number."
   ]
  },
  {
   "cell_type": "code",
   "execution_count": 31,
   "id": "03582df0",
   "metadata": {},
   "outputs": [],
   "source": [
    "import random\n",
    "def ran_num():\n",
    "    '''\n",
    "    This function produces a random digit from (0,50).\n",
    "    '''\n",
    "    \n",
    "\n",
    "    n = random. randint(0,50)\n",
    "    print(n)"
   ]
  },
  {
   "cell_type": "code",
   "execution_count": 30,
   "id": "36b646d7",
   "metadata": {},
   "outputs": [
    {
     "name": "stdout",
     "output_type": "stream",
     "text": [
      "23\n"
     ]
    }
   ],
   "source": [
    "ran_num()"
   ]
  },
  {
   "cell_type": "code",
   "execution_count": null,
   "id": "8261bac9",
   "metadata": {},
   "outputs": [],
   "source": []
  },
  {
   "cell_type": "code",
   "execution_count": null,
   "id": "a07d22de",
   "metadata": {},
   "outputs": [],
   "source": []
  }
 ],
 "metadata": {
  "kernelspec": {
   "display_name": "Python 3",
   "language": "python",
   "name": "python3"
  },
  "language_info": {
   "codemirror_mode": {
    "name": "ipython",
    "version": 3
   },
   "file_extension": ".py",
   "mimetype": "text/x-python",
   "name": "python",
   "nbconvert_exporter": "python",
   "pygments_lexer": "ipython3",
   "version": "3.8.8"
  }
 },
 "nbformat": 4,
 "nbformat_minor": 5
}
