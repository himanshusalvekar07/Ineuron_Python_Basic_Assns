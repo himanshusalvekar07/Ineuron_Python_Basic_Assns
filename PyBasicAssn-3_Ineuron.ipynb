{
 "cells": [
  {
   "cell_type": "markdown",
   "id": "eeaba78d",
   "metadata": {},
   "source": [
    "1.Why are functions advantageous to have in your programs?"
   ]
  },
  {
   "cell_type": "code",
   "execution_count": null,
   "id": "92be1bc3",
   "metadata": {},
   "outputs": [],
   "source": [
    "Ans] Functions reduce the need for duplicate code. This makes programs shorter, easier to read, and easier to update."
   ]
  },
  {
   "cell_type": "markdown",
   "id": "9db7e86b",
   "metadata": {},
   "source": [
    "2. When does the code in a function run: when it's specified or when it's called?"
   ]
  },
  {
   "cell_type": "code",
   "execution_count": null,
   "id": "2242c4de",
   "metadata": {},
   "outputs": [],
   "source": [
    "Ans] The code in a function executes when the function is called, not when the function is defined."
   ]
  },
  {
   "cell_type": "markdown",
   "id": "d925dbb2",
   "metadata": {},
   "source": [
    "3.What statement creates a function?"
   ]
  },
  {
   "cell_type": "code",
   "execution_count": null,
   "id": "922cbffa",
   "metadata": {},
   "outputs": [],
   "source": [
    "Ans] The def statement defines, i.e. creates a function."
   ]
  },
  {
   "cell_type": "markdown",
   "id": "4cf63161",
   "metadata": {},
   "source": [
    "4. What is the difference between a function and a function call?"
   ]
  },
  {
   "cell_type": "markdown",
   "id": "0cda20d7",
   "metadata": {},
   "source": [
    "A function consists of the def statement and the code in its def clause. A function call is what moves the program execution into the function, and the function call evaluates to the function's return value."
   ]
  },
  {
   "cell_type": "markdown",
   "id": "08db1fd5",
   "metadata": {},
   "source": [
    "5. How many global scopes are there in a Python program? How many local scopes?"
   ]
  },
  {
   "cell_type": "code",
   "execution_count": null,
   "id": "4729237c",
   "metadata": {},
   "outputs": [],
   "source": [
    "Ans] There is one global scope, and a local scope is created whenever a function is called."
   ]
  },
  {
   "cell_type": "markdown",
   "id": "dbfa304f",
   "metadata": {},
   "source": [
    "6. What happens to variables in a local scope when the function call returns?"
   ]
  },
  {
   "cell_type": "code",
   "execution_count": null,
   "id": "a79c045f",
   "metadata": {},
   "outputs": [],
   "source": [
    "Ans] When a function returns, the local scope is destroyed, and all the variables in it are forgotten."
   ]
  },
  {
   "cell_type": "markdown",
   "id": "cc37c7e6",
   "metadata": {},
   "source": [
    "\n",
    "7. What is the concept of a return value? Is it possible to have a return value in an expression?"
   ]
  },
  {
   "cell_type": "code",
   "execution_count": null,
   "id": "2ebf4157",
   "metadata": {},
   "outputs": [],
   "source": [
    "Ans] A return value is the value that a function call evaluates to. Like any value, a return value can be used as part of \n",
    "an expression."
   ]
  },
  {
   "cell_type": "markdown",
   "id": "bc9cc6fb",
   "metadata": {},
   "source": [
    "8. If a function does not have a return statement, what is the return value of a call to that function?"
   ]
  },
  {
   "cell_type": "code",
   "execution_count": null,
   "id": "2fcbd359",
   "metadata": {},
   "outputs": [],
   "source": [
    "Ans] If there is no return statement for a function, its return value is None."
   ]
  },
  {
   "cell_type": "markdown",
   "id": "a80d6097",
   "metadata": {},
   "source": [
    "9. How do you make a function variable refer to the global variable?"
   ]
  },
  {
   "cell_type": "code",
   "execution_count": null,
   "id": "19d506e2",
   "metadata": {},
   "outputs": [],
   "source": [
    "Ans] A global statement will force a variable in a function to refer to the global variable."
   ]
  },
  {
   "cell_type": "markdown",
   "id": "753811e4",
   "metadata": {},
   "source": [
    "10. What is the data type of None?"
   ]
  },
  {
   "cell_type": "code",
   "execution_count": null,
   "id": "ed2e70ba",
   "metadata": {},
   "outputs": [],
   "source": [
    "The data type of None is NoneType."
   ]
  },
  {
   "cell_type": "markdown",
   "id": "ac0158ce",
   "metadata": {},
   "source": [
    "11. What does the sentence import areallyourpetsnamederic do?"
   ]
  },
  {
   "cell_type": "code",
   "execution_count": null,
   "id": "cc9ba1c2",
   "metadata": {},
   "outputs": [],
   "source": [
    "Ans] That import statement imports a module named areallyourpetsnamederic."
   ]
  },
  {
   "cell_type": "markdown",
   "id": "44f4f0fe",
   "metadata": {},
   "source": [
    "12. If you had a bacon() feature in a spam module, what would you call it after importing spam?"
   ]
  },
  {
   "cell_type": "code",
   "execution_count": null,
   "id": "42a8e4f0",
   "metadata": {},
   "outputs": [],
   "source": [
    "Ans] This function can be called with spam.bacon()."
   ]
  },
  {
   "cell_type": "markdown",
   "id": "f7faf55c",
   "metadata": {},
   "source": [
    "13. What can you do to save a programme from crashing if it encounters an error?"
   ]
  },
  {
   "cell_type": "code",
   "execution_count": null,
   "id": "5bf840a5",
   "metadata": {},
   "outputs": [],
   "source": [
    "Ans] Place the line of code that might cause an error in a try clause."
   ]
  },
  {
   "cell_type": "markdown",
   "id": "6e717b87",
   "metadata": {},
   "source": [
    "14.What is the purpose of the try clause? What is the purpose of the except clause?"
   ]
  },
  {
   "cell_type": "code",
   "execution_count": null,
   "id": "b2e4a03a",
   "metadata": {},
   "outputs": [],
   "source": [
    "Ans] The code that could potentially cause an error goes in the try clause.The code that executes if an error happens goes \n",
    "in the except clause."
   ]
  }
 ],
 "metadata": {
  "kernelspec": {
   "display_name": "Python 3",
   "language": "python",
   "name": "python3"
  },
  "language_info": {
   "codemirror_mode": {
    "name": "ipython",
    "version": 3
   },
   "file_extension": ".py",
   "mimetype": "text/x-python",
   "name": "python",
   "nbconvert_exporter": "python",
   "pygments_lexer": "ipython3",
   "version": "3.8.8"
  }
 },
 "nbformat": 4,
 "nbformat_minor": 5
}
