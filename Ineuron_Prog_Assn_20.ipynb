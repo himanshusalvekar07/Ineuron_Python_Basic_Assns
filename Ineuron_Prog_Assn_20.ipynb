{
 "cells": [
  {
   "cell_type": "markdown",
   "id": "7a4a338a",
   "metadata": {},
   "source": [
    "Question1 Create a function that takes a list of strings and integers, and filters out the list so that it returns a list of integers only.\n",
    "\n"
   ]
  },
  {
   "cell_type": "code",
   "execution_count": 1,
   "id": "6c18dec0",
   "metadata": {},
   "outputs": [
    {
     "name": "stdout",
     "output_type": "stream",
     "text": [
      "[1, 2]\n"
     ]
    }
   ],
   "source": [
    "def filter_list(lst):\n",
    "    result = []\n",
    "    for i in lst:\n",
    "        if str(i).isdigit():\n",
    "            result.append(i)\n",
    "    return result\n",
    "\n",
    "\n",
    "print(filter_list([1,2,\"a\",\"b\"]))"
   ]
  },
  {
   "cell_type": "markdown",
   "id": "f8b882fd",
   "metadata": {},
   "source": [
    "\n",
    "Question2 Given a list of numbers, create a function which returns the list but with each element's index in the list added to itself. This means you add 0 to the number at index 0, add 1 to the number at index 1, etc..."
   ]
  },
  {
   "cell_type": "code",
   "execution_count": 2,
   "id": "3c8fc37a",
   "metadata": {},
   "outputs": [
    {
     "name": "stdout",
     "output_type": "stream",
     "text": [
      "[1, 3, 5, 7, 9]\n"
     ]
    }
   ],
   "source": [
    "def add_indexes(lst):\n",
    "    for index,value in enumerate(lst):\n",
    "        lst[index] = index+value\n",
    "    return lst\n",
    "\n",
    "print(add_indexes([1, 2, 3, 4, 5]))"
   ]
  },
  {
   "cell_type": "markdown",
   "id": "46c4360c",
   "metadata": {},
   "source": [
    "Question3 Create a function that takes the height and radius of a cone as arguments and returns the volume of the cone rounded to the nearest hundredth. See the resources tab for the formula.\n",
    "\n"
   ]
  },
  {
   "cell_type": "code",
   "execution_count": 3,
   "id": "cf0b99a5",
   "metadata": {},
   "outputs": [
    {
     "name": "stdout",
     "output_type": "stream",
     "text": [
      "565.49\n"
     ]
    }
   ],
   "source": [
    "import math\n",
    "\n",
    "def cone_volume(h,r):\n",
    "    return round(math.pi*(r**2)*h/3,2)\n",
    "\n",
    "print(cone_volume(15, 6))"
   ]
  },
  {
   "cell_type": "markdown",
   "id": "7556ecb6",
   "metadata": {},
   "source": [
    "Question4 Write a function that gives the number of dots with its corresponding triangle number of the sequence."
   ]
  },
  {
   "cell_type": "code",
   "execution_count": 5,
   "id": "9e14bb05",
   "metadata": {},
   "outputs": [
    {
     "name": "stdout",
     "output_type": "stream",
     "text": [
      "21\n"
     ]
    }
   ],
   "source": [
    "def triangle(n):\n",
    "    number = 0\n",
    "    for i in range(1, n+1):\n",
    "        number += i\n",
    "    return number\n",
    "\n",
    "print(triangle(6))"
   ]
  },
  {
   "cell_type": "markdown",
   "id": "9651efc8",
   "metadata": {},
   "source": [
    "Question5 Create a function that takes a list of numbers between 1 and 10 (excluding one number) and returns the missing number."
   ]
  },
  {
   "cell_type": "code",
   "execution_count": 6,
   "id": "a26cb2a6",
   "metadata": {},
   "outputs": [
    {
     "name": "stdout",
     "output_type": "stream",
     "text": [
      "5\n"
     ]
    }
   ],
   "source": [
    "def missing_num(lst):\n",
    "    for i in range(1,11):\n",
    "        if not i in lst:\n",
    "            return i\n",
    "\n",
    "\n",
    "print(missing_num([1, 2, 3, 4, 6, 7, 8, 9, 10]))"
   ]
  },
  {
   "cell_type": "code",
   "execution_count": null,
   "id": "ab4df9e7",
   "metadata": {},
   "outputs": [],
   "source": []
  }
 ],
 "metadata": {
  "kernelspec": {
   "display_name": "Python 3 (ipykernel)",
   "language": "python",
   "name": "python3"
  },
  "language_info": {
   "codemirror_mode": {
    "name": "ipython",
    "version": 3
   },
   "file_extension": ".py",
   "mimetype": "text/x-python",
   "name": "python",
   "nbconvert_exporter": "python",
   "pygments_lexer": "ipython3",
   "version": "3.9.13"
  }
 },
 "nbformat": 4,
 "nbformat_minor": 5
}
