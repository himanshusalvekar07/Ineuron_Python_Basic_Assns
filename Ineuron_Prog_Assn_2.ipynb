{
 "cells": [
  {
   "cell_type": "code",
   "execution_count": null,
   "id": "0a97616d",
   "metadata": {},
   "outputs": [],
   "source": [
    "1. Write a Python program to convert kilometers to miles?\n",
    "2. Write a Python program to convert Celsius to Fahrenheit.?\n",
    "3. Write a Python program to display calendar.?\n",
    "5. Write a Python program to solve quadratic equation.?\n",
    "5. Write a Python program to swap two variables without temp variable?"
   ]
  },
  {
   "cell_type": "markdown",
   "id": "c5956733",
   "metadata": {},
   "source": [
    "1. Write a Python program to convert kilometers to miles."
   ]
  },
  {
   "cell_type": "code",
   "execution_count": 29,
   "id": "4aa0c438",
   "metadata": {},
   "outputs": [],
   "source": [
    "def km_miles(km):\n",
    "    '''\n",
    "    This program converts kilometeres to miles.\n",
    "    '''\n",
    "    \n",
    "    #1.60934=1mile\n",
    "    m=km/1.60934\n",
    "    return f\"mile for the given {km}kms is :{m}\""
   ]
  },
  {
   "cell_type": "code",
   "execution_count": 30,
   "id": "9317aa89",
   "metadata": {},
   "outputs": [
    {
     "data": {
      "text/plain": [
       "'mile for the given 44.6kms is :27.71322405458138'"
      ]
     },
     "execution_count": 30,
     "metadata": {},
     "output_type": "execute_result"
    }
   ],
   "source": [
    "km_miles(44.6)"
   ]
  },
  {
   "cell_type": "markdown",
   "id": "0031e2cf",
   "metadata": {},
   "source": [
    "2. Write a Python program to convert Celsius to Fahrenheit."
   ]
  },
  {
   "cell_type": "code",
   "execution_count": 31,
   "id": "866dbc57",
   "metadata": {},
   "outputs": [],
   "source": [
    "def cel_F(cel):\n",
    "    '''\n",
    "    This program converts celsius to Fahrenheit.\n",
    "    \n",
    "    '''\n",
    "    #1deg=33.8F\n",
    "    F=(cel * 9/5) + 32 \n",
    "\n",
    "    return f\"Fahrenheit for the given {cel} degrees is:{F}\""
   ]
  },
  {
   "cell_type": "code",
   "execution_count": 32,
   "id": "b7f271fc",
   "metadata": {},
   "outputs": [
    {
     "data": {
      "text/plain": [
       "'Fahrenheit for the given 100 degrees is:212.0'"
      ]
     },
     "execution_count": 32,
     "metadata": {},
     "output_type": "execute_result"
    }
   ],
   "source": [
    "cel_F(100)"
   ]
  },
  {
   "cell_type": "markdown",
   "id": "1a7e265f",
   "metadata": {},
   "source": [
    "3. Write a Python program to display calendar."
   ]
  },
  {
   "cell_type": "code",
   "execution_count": 42,
   "id": "78ca7fc1",
   "metadata": {},
   "outputs": [],
   "source": [
    " import calendar   \n",
    "\n",
    "def disp_cal(yy,mm):\n",
    "    '''\n",
    "    This function displays the calendar.\n",
    "    \n",
    "    '''\n",
    "    \n",
    "    print(calendar.month(yy, mm))"
   ]
  },
  {
   "cell_type": "code",
   "execution_count": 40,
   "id": "b41dfcf3",
   "metadata": {},
   "outputs": [
    {
     "name": "stdout",
     "output_type": "stream",
     "text": [
      "   November 2023\n",
      "Mo Tu We Th Fr Sa Su\n",
      "       1  2  3  4  5\n",
      " 6  7  8  9 10 11 12\n",
      "13 14 15 16 17 18 19\n",
      "20 21 22 23 24 25 26\n",
      "27 28 29 30\n",
      "\n"
     ]
    }
   ],
   "source": [
    "disp_cal(2023,11)"
   ]
  },
  {
   "cell_type": "markdown",
   "id": "05175f97",
   "metadata": {},
   "source": [
    "4. Write a Python program to swap two variables without temp variable?"
   ]
  },
  {
   "cell_type": "code",
   "execution_count": 45,
   "id": "ce240c4b",
   "metadata": {},
   "outputs": [],
   "source": [
    "def swap_vars(x,y):\n",
    "    '''\n",
    "    This function swaps the values of any two variables.\n",
    "    '''\n",
    "    x,y=y,x\n",
    "    print(f'Swapped value of x:{x}')\n",
    "    print(f'Swapped value of y:{y}')\n",
    "    "
   ]
  },
  {
   "cell_type": "code",
   "execution_count": 46,
   "id": "2f753934",
   "metadata": {},
   "outputs": [
    {
     "name": "stdout",
     "output_type": "stream",
     "text": [
      "Swapped value of x:2\n",
      "Swapped value of y:1\n"
     ]
    }
   ],
   "source": [
    "swap_vars(1,2)"
   ]
  },
  {
   "cell_type": "markdown",
   "id": "0204dfe1",
   "metadata": {},
   "source": [
    "5. Write a Python program to solve quadratic equation."
   ]
  },
  {
   "cell_type": "code",
   "execution_count": 49,
   "id": "bff00810",
   "metadata": {},
   "outputs": [],
   "source": [
    "import cmath\n",
    "def quad(a,b,c):\n",
    "\n",
    "  \n",
    "  \n",
    "\n",
    "    \n",
    "    \n",
    "    d = (b**2) - (4*a*c)  \n",
    "  \n",
    "  \n",
    "    sol1 = (-b-cmath.sqrt(d))/(2*a)  \n",
    "    sol2 = (-b+cmath.sqrt(d))/(2*a)  \n",
    "    print('The solution are {0} and {1}'.format(sol1,sol2))   "
   ]
  },
  {
   "cell_type": "code",
   "execution_count": 51,
   "id": "f71b74d2",
   "metadata": {},
   "outputs": [
    {
     "name": "stdout",
     "output_type": "stream",
     "text": [
      "The solution are (-1+0j) and (-0.5+0j)\n"
     ]
    }
   ],
   "source": [
    "quad(2,3,1)"
   ]
  },
  {
   "cell_type": "code",
   "execution_count": null,
   "id": "0194ffcf",
   "metadata": {},
   "outputs": [],
   "source": []
  }
 ],
 "metadata": {
  "kernelspec": {
   "display_name": "Python 3",
   "language": "python",
   "name": "python3"
  },
  "language_info": {
   "codemirror_mode": {
    "name": "ipython",
    "version": 3
   },
   "file_extension": ".py",
   "mimetype": "text/x-python",
   "name": "python",
   "nbconvert_exporter": "python",
   "pygments_lexer": "ipython3",
   "version": "3.8.8"
  }
 },
 "nbformat": 4,
 "nbformat_minor": 5
}
