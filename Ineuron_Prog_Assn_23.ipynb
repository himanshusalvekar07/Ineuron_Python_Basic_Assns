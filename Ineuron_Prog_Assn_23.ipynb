{
 "cells": [
  {
   "cell_type": "markdown",
   "id": "4fb2cf2f",
   "metadata": {},
   "source": [
    "\n",
    "Question 1 Create a function that takes a number as an argument and returns True or False depending on whether the number is symmetrical or not. A number is symmetrical when it is the same as its reverse.\n",
    "\n"
   ]
  },
  {
   "cell_type": "code",
   "execution_count": 1,
   "id": "69ff589f",
   "metadata": {},
   "outputs": [
    {
     "name": "stdout",
     "output_type": "stream",
     "text": [
      "False\n"
     ]
    }
   ],
   "source": [
    "def is_symmetrical(N):\n",
    "    N = str(N)\n",
    "    return N==N[::-1]\n",
    "\n",
    "print(is_symmetrical(9939))"
   ]
  },
  {
   "cell_type": "markdown",
   "id": "b04988d2",
   "metadata": {},
   "source": [
    "Question 2 Given a string of numbers separated by a comma and space, return the product of the numbers."
   ]
  },
  {
   "cell_type": "code",
   "execution_count": 2,
   "id": "dbe9148a",
   "metadata": {},
   "outputs": [
    {
     "name": "stdout",
     "output_type": "stream",
     "text": [
      "24\n"
     ]
    }
   ],
   "source": [
    "def multiply_nums(number):\n",
    "    lst = list(map(int,number.split(\",\")))\n",
    "    product = 1\n",
    "    for i in lst:\n",
    "        product *= i\n",
    "    return product\n",
    "\n",
    "print(multiply_nums(\"1, 2, 3, 4\"))"
   ]
  },
  {
   "cell_type": "markdown",
   "id": "3173d4b8",
   "metadata": {},
   "source": [
    "Question 3 Create a function that squares every digit of a number."
   ]
  },
  {
   "cell_type": "code",
   "execution_count": 3,
   "id": "e8ccf3fb",
   "metadata": {},
   "outputs": [
    {
     "name": "stdout",
     "output_type": "stream",
     "text": [
      "[1, 3, 5]\n"
     ]
    }
   ],
   "source": [
    "def setify(lst):\n",
    "    lst = list(set(lst))\n",
    "    lst.sort()\n",
    "    return lst\n",
    "\n",
    "print(setify([1, 3, 3, 5, 5]))"
   ]
  },
  {
   "cell_type": "markdown",
   "id": "0ba58f97",
   "metadata": {},
   "source": [
    "Question 3 Create a function that squares every digit of a number."
   ]
  },
  {
   "cell_type": "code",
   "execution_count": null,
   "id": "abb1f921",
   "metadata": {},
   "outputs": [],
   "source": []
  }
 ],
 "metadata": {
  "kernelspec": {
   "display_name": "Python 3 (ipykernel)",
   "language": "python",
   "name": "python3"
  },
  "language_info": {
   "codemirror_mode": {
    "name": "ipython",
    "version": 3
   },
   "file_extension": ".py",
   "mimetype": "text/x-python",
   "name": "python",
   "nbconvert_exporter": "python",
   "pygments_lexer": "ipython3",
   "version": "3.9.13"
  }
 },
 "nbformat": 4,
 "nbformat_minor": 5
}
