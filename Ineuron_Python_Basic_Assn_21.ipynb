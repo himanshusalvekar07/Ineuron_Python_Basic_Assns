{
 "cells": [
  {
   "cell_type": "markdown",
   "id": "9856eed6",
   "metadata": {},
   "source": [
    "Add the current date to the text file today.txt as a string.`"
   ]
  },
  {
   "cell_type": "code",
   "execution_count": 1,
   "id": "46e1d5cb",
   "metadata": {},
   "outputs": [],
   "source": [
    "from datetime import date\n",
    "now = date.today()\n",
    "now_str = now.isoformat()\n",
    "with open('today.txt', 'wt') as output:\n",
    "    print(now_str, file=output)"
   ]
  },
  {
   "cell_type": "markdown",
   "id": "224c2bae",
   "metadata": {},
   "source": [
    "Read the text file today.txt into the string today_string"
   ]
  },
  {
   "cell_type": "code",
   "execution_count": 3,
   "id": "e2b556cf",
   "metadata": {},
   "outputs": [],
   "source": [
    "\n",
    "with open('today.txt', 'rt') as input:\n",
    "    today_string = input.read()\n",
    "\n",
    "    "
   ]
  },
  {
   "cell_type": "code",
   "execution_count": 4,
   "id": "59879ab9",
   "metadata": {},
   "outputs": [
    {
     "data": {
      "text/plain": [
       "'2023-03-31\\n'"
      ]
     },
     "execution_count": 4,
     "metadata": {},
     "output_type": "execute_result"
    }
   ],
   "source": [
    "today_string"
   ]
  },
  {
   "cell_type": "markdown",
   "id": "e838f924",
   "metadata": {},
   "source": [
    "Parse the date from today_string."
   ]
  },
  {
   "cell_type": "code",
   "execution_count": 7,
   "id": "9d25d78a",
   "metadata": {},
   "outputs": [
    {
     "data": {
      "text/plain": [
       "datetime.datetime(2023, 3, 31, 0, 0)"
      ]
     },
     "execution_count": 7,
     "metadata": {},
     "output_type": "execute_result"
    }
   ],
   "source": [
    "from datetime import datetime\n",
    "fmt = '%Y-%m-%d\\n'\n",
    "datetime.strptime(today_string, fmt)"
   ]
  },
  {
   "cell_type": "markdown",
   "id": "2f80102b",
   "metadata": {},
   "source": [
    "List the files in your current directory"
   ]
  },
  {
   "cell_type": "code",
   "execution_count": 9,
   "id": "0efca7d4",
   "metadata": {},
   "outputs": [
    {
     "data": {
      "text/plain": [
       "['.ipynb_checkpoints',\n",
       " 'books.csv',\n",
       " 'books.db',\n",
       " 'Ineuron_Prog_Assn_1.ipynb',\n",
       " 'Ineuron_Prog_Assn_10.ipynb',\n",
       " 'Ineuron_Prog_Assn_11.ipynb',\n",
       " 'Ineuron_Prog_Assn_12.ipynb',\n",
       " 'Ineuron_Prog_Assn_2.ipynb',\n",
       " 'Ineuron_Prog_Assn_3.ipynb',\n",
       " 'Ineuron_Prog_Assn_4.ipynb',\n",
       " 'Ineuron_Prog_Assn_5.ipynb',\n",
       " 'Ineuron_Prog_Assn_6.ipynb',\n",
       " 'Ineuron_Python_Basic_Assn_10.ipynb',\n",
       " 'Ineuron_Python_Basic_Assn_11.ipynb',\n",
       " 'Ineuron_Python_Basic_Assn_12.ipynb',\n",
       " 'Ineuron_Python_Basic_Assn_13.ipynb',\n",
       " 'Ineuron_Python_Basic_Assn_14.ipynb',\n",
       " 'Ineuron_Python_Basic_Assn_15.ipynb',\n",
       " 'Ineuron_Python_Basic_Assn_16.ipynb',\n",
       " 'Ineuron_Python_Basic_Assn_17.ipynb',\n",
       " 'Ineuron_Python_Basic_Assn_19.ipynb',\n",
       " 'Ineuron_Python_Basic_Assn_20.ipynb',\n",
       " 'Ineuron_Python_Basic_Assn_21.ipynb',\n",
       " 'Ineuron_Python_Basic_Assn_4.ipynb',\n",
       " 'Ineuron_Python_Basic_Assn_5.ipynb',\n",
       " 'Ineuron_Python_Basic_Assn_6.ipynb',\n",
       " 'Ineuron_Python_Basic_Assn_8.ipynb',\n",
       " 'Ineuron_Python_Basic_Assn_9.ipynb',\n",
       " 'new.zip',\n",
       " 'test.txt',\n",
       " 'test4.log',\n",
       " 'test8.log',\n",
       " 'today.txt',\n",
       " 'Trimester-4.png']"
      ]
     },
     "execution_count": 9,
     "metadata": {},
     "output_type": "execute_result"
    }
   ],
   "source": [
    "import os\n",
    "os.listdir('.')"
   ]
  },
  {
   "cell_type": "markdown",
   "id": "b8e18a65",
   "metadata": {},
   "source": [
    "Use multiprocessing to create three separate processes. Make each one wait a random number of seconds between one and five, print the current time, and then exit."
   ]
  },
  {
   "cell_type": "code",
   "execution_count": 10,
   "id": "4cc475e7",
   "metadata": {},
   "outputs": [
    {
     "name": "stderr",
     "output_type": "stream",
     "text": [
      "python: can't open file 'C:\\Users\\devas\\Desktop\\sample_project_1\\Ineuron_Assignments\\multi_process.py': [Errno 2] No such file or directory\n"
     ]
    }
   ],
   "source": [
    "!python multi_process.py"
   ]
  },
  {
   "cell_type": "markdown",
   "id": "fbf40a39",
   "metadata": {},
   "source": [
    "Create a date object of your day of birth."
   ]
  },
  {
   "cell_type": "code",
   "execution_count": 11,
   "id": "f9e73197",
   "metadata": {},
   "outputs": [
    {
     "data": {
      "text/plain": [
       "datetime.date(1996, 8, 10)"
      ]
     },
     "execution_count": 11,
     "metadata": {},
     "output_type": "execute_result"
    }
   ],
   "source": [
    "my_day = date(1996, 8, 10)\n",
    "my_day"
   ]
  },
  {
   "cell_type": "markdown",
   "id": "b129e515",
   "metadata": {},
   "source": [
    "What day of the week was your day of birth"
   ]
  },
  {
   "cell_type": "code",
   "execution_count": null,
   "id": "fef6e4a5",
   "metadata": {},
   "outputs": [],
   "source": [
    "With weekday(), Monday is 0 and Sunday is 6. With isoweekday(), Monday is 1 and"
   ]
  },
  {
   "cell_type": "code",
   "execution_count": null,
   "id": "82eb7525",
   "metadata": {},
   "outputs": [],
   "source": [
    "Sunday is 7. Therefore, this date is a Saturday."
   ]
  },
  {
   "cell_type": "code",
   "execution_count": 13,
   "id": "d3616dbd",
   "metadata": {},
   "outputs": [
    {
     "data": {
      "text/plain": [
       "5"
      ]
     },
     "execution_count": 13,
     "metadata": {},
     "output_type": "execute_result"
    }
   ],
   "source": [
    "my_day.weekday()"
   ]
  },
  {
   "cell_type": "code",
   "execution_count": 14,
   "id": "105046b9",
   "metadata": {},
   "outputs": [
    {
     "data": {
      "text/plain": [
       "6"
      ]
     },
     "execution_count": 14,
     "metadata": {},
     "output_type": "execute_result"
    }
   ],
   "source": [
    "my_day.isoweekday()"
   ]
  },
  {
   "cell_type": "markdown",
   "id": "67b2fdd5",
   "metadata": {},
   "source": [
    "When will you be (or when were you) 10,000 days old?"
   ]
  },
  {
   "cell_type": "code",
   "execution_count": null,
   "id": "577b4581",
   "metadata": {},
   "outputs": [],
   "source": []
  }
 ],
 "metadata": {
  "kernelspec": {
   "display_name": "Python 3 (ipykernel)",
   "language": "python",
   "name": "python3"
  },
  "language_info": {
   "codemirror_mode": {
    "name": "ipython",
    "version": 3
   },
   "file_extension": ".py",
   "mimetype": "text/x-python",
   "name": "python",
   "nbconvert_exporter": "python",
   "pygments_lexer": "ipython3",
   "version": "3.9.13"
  }
 },
 "nbformat": 4,
 "nbformat_minor": 5
}
