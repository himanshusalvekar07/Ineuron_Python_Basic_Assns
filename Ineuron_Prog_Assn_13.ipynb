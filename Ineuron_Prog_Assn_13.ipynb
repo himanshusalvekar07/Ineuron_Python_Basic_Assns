{
 "cells": [
  {
   "cell_type": "markdown",
   "id": "e1bc00e2",
   "metadata": {},
   "source": [
    "1]"
   ]
  },
  {
   "cell_type": "code",
   "execution_count": 1,
   "id": "858a972a",
   "metadata": {},
   "outputs": [
    {
     "name": "stdout",
     "output_type": "stream",
     "text": [
      "Enter values comma separated 44\n",
      "12\n"
     ]
    }
   ],
   "source": [
    "dtotal = list(map(int, input(\"Enter values comma separated \").split(\",\")))\n",
    "c = 50\n",
    "h = 30\n",
    "result = []\n",
    "for d in dtotal:\n",
    "    q = int((2*c*d/h)**0.5)\n",
    "    result.append(str(q))\n",
    "    \n",
    "print(\",\".join(result))"
   ]
  },
  {
   "cell_type": "markdown",
   "id": "a2a5395a",
   "metadata": {},
   "source": [
    "2]"
   ]
  },
  {
   "cell_type": "code",
   "execution_count": 2,
   "id": "1e174f35",
   "metadata": {},
   "outputs": [
    {
     "name": "stdout",
     "output_type": "stream",
     "text": [
      "Enter x 3\n",
      "Enter y 4\n",
      "[[0, 0, 0, 0], [0, 1, 2, 3], [0, 2, 4, 6]]\n"
     ]
    }
   ],
   "source": [
    "x = int(input(\"Enter x \"))\n",
    "y = int(input(\"Enter y \"))\n",
    "\n",
    "matrix = [[i*j for j in range(y)]for i in range(x)]\n",
    "print(matrix)"
   ]
  },
  {
   "cell_type": "markdown",
   "id": "1202669c",
   "metadata": {},
   "source": [
    "3]"
   ]
  },
  {
   "cell_type": "code",
   "execution_count": null,
   "id": "3bba595c",
   "metadata": {},
   "outputs": [],
   "source": []
  },
  {
   "cell_type": "code",
   "execution_count": null,
   "id": "274b9c0a",
   "metadata": {},
   "outputs": [],
   "source": []
  },
  {
   "cell_type": "code",
   "execution_count": null,
   "id": "15e10176",
   "metadata": {},
   "outputs": [],
   "source": []
  },
  {
   "cell_type": "code",
   "execution_count": null,
   "id": "d7c0fc0f",
   "metadata": {},
   "outputs": [],
   "source": []
  },
  {
   "cell_type": "code",
   "execution_count": null,
   "id": "e8a6d529",
   "metadata": {},
   "outputs": [],
   "source": []
  }
 ],
 "metadata": {
  "kernelspec": {
   "display_name": "Python 3 (ipykernel)",
   "language": "python",
   "name": "python3"
  },
  "language_info": {
   "codemirror_mode": {
    "name": "ipython",
    "version": 3
   },
   "file_extension": ".py",
   "mimetype": "text/x-python",
   "name": "python",
   "nbconvert_exporter": "python",
   "pygments_lexer": "ipython3",
   "version": "3.9.13"
  }
 },
 "nbformat": 4,
 "nbformat_minor": 5
}
