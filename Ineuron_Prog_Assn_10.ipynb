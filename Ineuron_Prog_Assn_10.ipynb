{
 "cells": [
  {
   "cell_type": "code",
   "execution_count": null,
   "id": "3dada365",
   "metadata": {},
   "outputs": [],
   "source": [
    "1. Write a Python program to find sum of elements in list.?\n",
    "2. Write a Python program to Multiply all numbers in the list.?\n",
    "3. Write a Python program to find smallest number in a list.?\n",
    "4. Write a Python program to find largest number in a list.?\n",
    "5. Write a Python program to find second largest number in a list.?\n",
    "6. Write a Python program to find N largest elements from a list.?\n",
    "7. Write a Python program to print even numbers in a list.?\n",
    "8. Write a Python program to print odd numbers in a List?\n",
    "9. Write a Python program to Remove empty List from List.?\n",
    "10. Write a Python program to Cloning or Copying a list.?\n",
    "11. Write a Python program to Count occurrences of an element in a list.?"
   ]
  },
  {
   "cell_type": "markdown",
   "id": "bea9a340",
   "metadata": {},
   "source": [
    "1. Write a Python program to find sum of elements in list."
   ]
  },
  {
   "cell_type": "code",
   "execution_count": 6,
   "id": "4aed5d0c",
   "metadata": {},
   "outputs": [],
   "source": [
    "def sum_list(l):\n",
    "    '''\n",
    "    Returns the sum of all elements in a list.\n",
    "    \n",
    "    '''\n",
    "    sum=0\n",
    "    for i in l:\n",
    "        sum+=i\n",
    "    return f\"sum of elements's {sum}\""
   ]
  },
  {
   "cell_type": "code",
   "execution_count": 7,
   "id": "7f7b266a",
   "metadata": {},
   "outputs": [
    {
     "data": {
      "text/plain": [
       "\"sum of elements's 12\""
      ]
     },
     "execution_count": 7,
     "metadata": {},
     "output_type": "execute_result"
    }
   ],
   "source": [
    "sum_list([1,2,3,6])"
   ]
  },
  {
   "cell_type": "markdown",
   "id": "d8b35e92",
   "metadata": {},
   "source": [
    "2. Write a Python program to Multiply all numbers in the list."
   ]
  },
  {
   "cell_type": "code",
   "execution_count": 8,
   "id": "003bd6d9",
   "metadata": {},
   "outputs": [],
   "source": [
    "def multiply_list(l):\n",
    "    '''\n",
    "    Returns the product of all elements in a list.\n",
    "    \n",
    "    '''\n",
    "    prod=1\n",
    "    for i in l:\n",
    "        prod*=i\n",
    "    return f\"Product of elements's {prod}\""
   ]
  },
  {
   "cell_type": "code",
   "execution_count": 11,
   "id": "b730e4b0",
   "metadata": {},
   "outputs": [
    {
     "data": {
      "text/plain": [
       "\"Product of elements's 120\""
      ]
     },
     "execution_count": 11,
     "metadata": {},
     "output_type": "execute_result"
    }
   ],
   "source": [
    "multiply_list([1,2,3,4,5])"
   ]
  },
  {
   "cell_type": "code",
   "execution_count": null,
   "id": "88a44313",
   "metadata": {},
   "outputs": [],
   "source": [
    "3. Write a Python program to find smallest number in a list."
   ]
  },
  {
   "cell_type": "code",
   "execution_count": 16,
   "id": "30eaf3e2",
   "metadata": {},
   "outputs": [],
   "source": [
    "def min_list(l):\n",
    "    '''\n",
    "    Returns the minimum element in a list.\n",
    "    \n",
    "    '''\n",
    "    l.sort()\n",
    "    return l[0]"
   ]
  },
  {
   "cell_type": "code",
   "execution_count": 19,
   "id": "c1afb055",
   "metadata": {},
   "outputs": [
    {
     "data": {
      "text/plain": [
       "2"
      ]
     },
     "execution_count": 19,
     "metadata": {},
     "output_type": "execute_result"
    }
   ],
   "source": [
    "l=[2,3,45,6]\n",
    "min_list(l)"
   ]
  },
  {
   "cell_type": "markdown",
   "id": "223a4a3f",
   "metadata": {},
   "source": [
    "4. Write a Python program to find largest number in a list."
   ]
  },
  {
   "cell_type": "code",
   "execution_count": 21,
   "id": "cbe91b40",
   "metadata": {},
   "outputs": [],
   "source": [
    "def large_list(l):\n",
    "    '''\n",
    "    Returns the largest number in a list.\n",
    "    \n",
    "    '''\n",
    "    l.sort()\n",
    "    return l[len(l)-1]"
   ]
  },
  {
   "cell_type": "code",
   "execution_count": 23,
   "id": "ded05991",
   "metadata": {},
   "outputs": [
    {
     "data": {
      "text/plain": [
       "5"
      ]
     },
     "execution_count": 23,
     "metadata": {},
     "output_type": "execute_result"
    }
   ],
   "source": [
    "large_list([1,2,3,4,5])"
   ]
  },
  {
   "cell_type": "markdown",
   "id": "16a3137f",
   "metadata": {},
   "source": [
    "5. Write a Python program to find second largest number in a list."
   ]
  },
  {
   "cell_type": "code",
   "execution_count": 34,
   "id": "69b887a7",
   "metadata": {},
   "outputs": [],
   "source": [
    "def secL_list(l):\n",
    "    \n",
    "    '''\n",
    "    Returns the second largest number in a list.\n",
    "    \n",
    "    '''\n",
    "    \n",
    "    l.sort()\n",
    "    l1=list(set(l))\n",
    "    return l1[len(l1)-2]\n",
    "    \n",
    "    \n",
    "    \n",
    "    "
   ]
  },
  {
   "cell_type": "code",
   "execution_count": 36,
   "id": "1125ac5e",
   "metadata": {},
   "outputs": [
    {
     "data": {
      "text/plain": [
       "5"
      ]
     },
     "execution_count": 36,
     "metadata": {},
     "output_type": "execute_result"
    }
   ],
   "source": [
    "l=[1,2,3,4,5,6]\n",
    "secL_list(l)"
   ]
  },
  {
   "cell_type": "markdown",
   "id": "ddba9abf",
   "metadata": {},
   "source": [
    "6. Write a Python program to print even numbers in a list."
   ]
  },
  {
   "cell_type": "code",
   "execution_count": 39,
   "id": "5e0847cd",
   "metadata": {},
   "outputs": [],
   "source": [
    "def even_nums(l):\n",
    "    '''\n",
    "    Returns all the even numbers in a list. \n",
    "    \n",
    "    '''\n",
    "    l1=[]\n",
    "    for i in l:\n",
    "        if i%2==0:\n",
    "            l1.append(i)\n",
    "    return l1\n",
    "        \n",
    "        \n",
    "\n",
    "        \n",
    "    "
   ]
  },
  {
   "cell_type": "code",
   "execution_count": 40,
   "id": "b4419e02",
   "metadata": {},
   "outputs": [
    {
     "data": {
      "text/plain": [
       "[2, 4]"
      ]
     },
     "execution_count": 40,
     "metadata": {},
     "output_type": "execute_result"
    }
   ],
   "source": [
    "even_nums([1,2,3,4,5])"
   ]
  },
  {
   "cell_type": "markdown",
   "id": "29add7fb",
   "metadata": {},
   "source": [
    "7. Write a Python program to print odd numbers in a List."
   ]
  },
  {
   "cell_type": "code",
   "execution_count": 41,
   "id": "6eb096ee",
   "metadata": {},
   "outputs": [],
   "source": [
    "def odd_nums(l):\n",
    "    '''\n",
    "    Returns all the odd numbers in a list. \n",
    "    \n",
    "    '''\n",
    "    l1=[]\n",
    "    for i in l:\n",
    "        if i%2!=0:\n",
    "            l1.append(i)\n",
    "    return l1\n",
    "        "
   ]
  },
  {
   "cell_type": "code",
   "execution_count": 43,
   "id": "ed9878d4",
   "metadata": {},
   "outputs": [
    {
     "data": {
      "text/plain": [
       "[1, 3, 5, 7, 9]"
      ]
     },
     "execution_count": 43,
     "metadata": {},
     "output_type": "execute_result"
    }
   ],
   "source": [
    "odd_nums([1,2,3,4,5,7,0,8,9])"
   ]
  },
  {
   "cell_type": "markdown",
   "id": "92ea1d87",
   "metadata": {},
   "source": [
    "8. Write a Python program to Remove empty List from List."
   ]
  },
  {
   "cell_type": "code",
   "execution_count": 46,
   "id": "484576de",
   "metadata": {},
   "outputs": [],
   "source": [
    "def empty_list(l):\n",
    "    '''\n",
    "    Removes empty list from a list.\n",
    "    \n",
    "    '''\n",
    "    for i in l:\n",
    "        if type(i)==list:\n",
    "            if len(i)==0:\n",
    "                l.remove(i)\n",
    "       \n",
    "         \n",
    "    return l"
   ]
  },
  {
   "cell_type": "code",
   "execution_count": 51,
   "id": "bcacf47b",
   "metadata": {},
   "outputs": [
    {
     "data": {
      "text/plain": [
       "[1, 2, 3, 4, 5, [12], [1, 2], [1, 2, 3, 4, 5]]"
      ]
     },
     "execution_count": 51,
     "metadata": {},
     "output_type": "execute_result"
    }
   ],
   "source": [
    "empty_list([1,2,3,4,5,[12],[1,2],[],[1,2,3,4,5]])"
   ]
  },
  {
   "cell_type": "markdown",
   "id": "4a0f849e",
   "metadata": {},
   "source": [
    "9. Write a Python program to Count occurrences of an element in a list."
   ]
  },
  {
   "cell_type": "code",
   "execution_count": 63,
   "id": "0e8322b6",
   "metadata": {},
   "outputs": [],
   "source": [
    "def ele_count(l):\n",
    "    '''\n",
    "    Returns the count of elements in a list\n",
    "    \n",
    "    '''\n",
    "    for i in l:\n",
    "        return l.count(i)\n",
    "    "
   ]
  },
  {
   "cell_type": "code",
   "execution_count": 64,
   "id": "56f17564",
   "metadata": {},
   "outputs": [
    {
     "data": {
      "text/plain": [
       "1"
      ]
     },
     "execution_count": 64,
     "metadata": {},
     "output_type": "execute_result"
    }
   ],
   "source": [
    "ele_count([1,2,3,4,4])"
   ]
  },
  {
   "cell_type": "code",
   "execution_count": 65,
   "id": "c986e5b7",
   "metadata": {},
   "outputs": [],
   "source": [
    "l=[]"
   ]
  },
  {
   "cell_type": "code",
   "execution_count": 66,
   "id": "eb0255e5",
   "metadata": {},
   "outputs": [],
   "source": [
    "l1=[12,3,4,4]"
   ]
  },
  {
   "cell_type": "code",
   "execution_count": 67,
   "id": "28c6bfa8",
   "metadata": {},
   "outputs": [],
   "source": [
    "l.extend(l1)"
   ]
  },
  {
   "cell_type": "code",
   "execution_count": 68,
   "id": "17c9d9c1",
   "metadata": {},
   "outputs": [
    {
     "data": {
      "text/plain": [
       "[12, 3, 4, 4]"
      ]
     },
     "execution_count": 68,
     "metadata": {},
     "output_type": "execute_result"
    }
   ],
   "source": [
    "l"
   ]
  },
  {
   "cell_type": "markdown",
   "id": "ed0e763f",
   "metadata": {},
   "source": [
    "10. Write a Python program to Cloning or Copying a list."
   ]
  },
  {
   "cell_type": "code",
   "execution_count": 73,
   "id": "ccdab665",
   "metadata": {},
   "outputs": [],
   "source": [
    "def clone_L(l):\n",
    "    '''\n",
    "    Returns a list which is copied from the given list. \n",
    "    \n",
    "    '''\n",
    "    l1=l[:]\n",
    "    return f\"Copied list:{l1}\"\n"
   ]
  },
  {
   "cell_type": "code",
   "execution_count": 72,
   "id": "2b587007",
   "metadata": {},
   "outputs": [
    {
     "data": {
      "text/plain": [
       "'Copied list:[12, 3, 7, 4, 3, 4]'"
      ]
     },
     "execution_count": 72,
     "metadata": {},
     "output_type": "execute_result"
    }
   ],
   "source": [
    "clone_L([12,3,7,4,3,4])"
   ]
  },
  {
   "cell_type": "markdown",
   "id": "40c89c60",
   "metadata": {},
   "source": [
    "11. Write a Python program to find N largest elements from a list."
   ]
  },
  {
   "cell_type": "code",
   "execution_count": 1,
   "id": "3bd557cb",
   "metadata": {},
   "outputs": [],
   "source": [
    "def N_largest(l,N):\n",
    "    '''\n",
    "    Returns N largest elements from a list.\n",
    "    \n",
    "    '''\n",
    "    l.sort()\n",
    "    return l[len(l)-N:len(l)]"
   ]
  },
  {
   "cell_type": "code",
   "execution_count": 4,
   "id": "77b636fd",
   "metadata": {},
   "outputs": [
    {
     "data": {
      "text/plain": [
       "[4, 5, 6]"
      ]
     },
     "execution_count": 4,
     "metadata": {},
     "output_type": "execute_result"
    }
   ],
   "source": [
    "N_largest([1,2,3,4,5,6],3)"
   ]
  },
  {
   "cell_type": "code",
   "execution_count": null,
   "id": "5977f241",
   "metadata": {},
   "outputs": [],
   "source": []
  }
 ],
 "metadata": {
  "kernelspec": {
   "display_name": "Python 3",
   "language": "python",
   "name": "python3"
  },
  "language_info": {
   "codemirror_mode": {
    "name": "ipython",
    "version": 3
   },
   "file_extension": ".py",
   "mimetype": "text/x-python",
   "name": "python",
   "nbconvert_exporter": "python",
   "pygments_lexer": "ipython3",
   "version": "3.8.8"
  }
 },
 "nbformat": 4,
 "nbformat_minor": 5
}
