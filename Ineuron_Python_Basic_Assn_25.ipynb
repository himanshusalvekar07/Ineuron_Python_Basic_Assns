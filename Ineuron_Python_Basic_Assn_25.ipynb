{
 "cells": [
  {
   "cell_type": "markdown",
   "id": "b6ae6acd",
   "metadata": {},
   "source": [
    "What is the difference between enclosing a list comprehension in square brackets and parentheses?"
   ]
  },
  {
   "cell_type": "code",
   "execution_count": null,
   "id": "72c2f7c2",
   "metadata": {},
   "outputs": [],
   "source": [
    "The difference between the two kinds of expressions is that the List comprehension is enclosed in square brackets [] while \n",
    "the Generator expression is enclosed in plain parentheses ()."
   ]
  },
  {
   "cell_type": "markdown",
   "id": "b6b3c99c",
   "metadata": {},
   "source": [
    "What is the relationship between generators and iterators?"
   ]
  },
  {
   "cell_type": "code",
   "execution_count": null,
   "id": "60e032e7",
   "metadata": {},
   "outputs": [],
   "source": [
    "Generators : It is another way of creating iterators in a simple way where it uses the keyword “yield” instead of returning \n",
    "it in a defined function. Generators are implemented using a function. Just as iterators, generators also follow lazy \n",
    "evaluation. Here, the yield function returns the data without affecting or exiting the function. It will return a sequence \n",
    "of data in an iterable format where we need to iterate over the sequence to use the data as they won’t store the entire \n",
    "sequence in the memory.\n",
    "\n",
    "Iterators : An iterator is an object which contains a countable number of values and it is used to iterate over iterable \n",
    "    objects like list, tuples, sets, etc. Iterators are implemented using a class and a local variable for iterating is \n",
    "    not required here, It follows lazy evaluation where the evaluation of the expression will be on hold and stored in the \n",
    "    memory until the item is called specifically which helps us to avoid repeated evaluation. As lazy evaluation is \n",
    "    implemented, it requires only 1 memory location to process the value and when we are using a large dataset then, \n",
    "    wastage of RAM space will be reduced the need to load the entire dataset at the same time will not be there."
   ]
  },
  {
   "cell_type": "markdown",
   "id": "5746f5b3",
   "metadata": {},
   "source": [
    "What are the signs that a function is a generator function?"
   ]
  },
  {
   "cell_type": "code",
   "execution_count": null,
   "id": "c9a29e52",
   "metadata": {},
   "outputs": [],
   "source": [
    "In a generator function, a yield statement is used rather than a return statement."
   ]
  },
  {
   "cell_type": "code",
   "execution_count": null,
   "id": "103b8a87",
   "metadata": {},
   "outputs": [],
   "source": []
  },
  {
   "cell_type": "code",
   "execution_count": null,
   "id": "5d73e537",
   "metadata": {},
   "outputs": [],
   "source": []
  },
  {
   "cell_type": "code",
   "execution_count": null,
   "id": "41a0be04",
   "metadata": {},
   "outputs": [],
   "source": []
  },
  {
   "cell_type": "code",
   "execution_count": null,
   "id": "01d2b0ea",
   "metadata": {},
   "outputs": [],
   "source": []
  },
  {
   "cell_type": "code",
   "execution_count": null,
   "id": "7c5ba082",
   "metadata": {},
   "outputs": [],
   "source": []
  },
  {
   "cell_type": "code",
   "execution_count": null,
   "id": "3d8488b7",
   "metadata": {},
   "outputs": [],
   "source": []
  },
  {
   "cell_type": "code",
   "execution_count": null,
   "id": "39893124",
   "metadata": {},
   "outputs": [],
   "source": []
  }
 ],
 "metadata": {
  "kernelspec": {
   "display_name": "Python 3 (ipykernel)",
   "language": "python",
   "name": "python3"
  },
  "language_info": {
   "codemirror_mode": {
    "name": "ipython",
    "version": 3
   },
   "file_extension": ".py",
   "mimetype": "text/x-python",
   "name": "python",
   "nbconvert_exporter": "python",
   "pygments_lexer": "ipython3",
   "version": "3.9.13"
  }
 },
 "nbformat": 4,
 "nbformat_minor": 5
}
