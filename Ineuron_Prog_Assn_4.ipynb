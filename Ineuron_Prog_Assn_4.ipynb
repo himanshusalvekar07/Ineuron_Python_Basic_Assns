{
 "cells": [
  {
   "cell_type": "code",
   "execution_count": null,
   "id": "fd47a1eb",
   "metadata": {},
   "outputs": [],
   "source": [
    "Write a Python Program to Find the Factorial of a Number?\n",
    "Write a Python Program to Display the multiplication Table.?\n",
    "Write a Python Program to Print the Fibonacci sequence.?\n",
    "Write a Python Program to Check Armstrong Number.?\n",
    "Write a Python Program to Find Armstrong Number in an Interval.?\n",
    "Write a Python Program to Find the Sum of Natural Numbers?\n"
   ]
  },
  {
   "cell_type": "markdown",
   "id": "2fb98ff7",
   "metadata": {},
   "source": [
    "Write a Python Program to Find the Factorial of a Number."
   ]
  },
  {
   "cell_type": "code",
   "execution_count": 9,
   "id": "c374c566",
   "metadata": {},
   "outputs": [],
   "source": [
    "def factorial(n):\n",
    "    '''\n",
    "    This function returns the factorial of any given number.\n",
    "    \n",
    "    '''\n",
    "    fact=1\n",
    "    for i in range(1,n+1):\n",
    "        fact*=i\n",
    "    return fact\n",
    "    "
   ]
  },
  {
   "cell_type": "code",
   "execution_count": 11,
   "id": "0536bb6d",
   "metadata": {},
   "outputs": [
    {
     "data": {
      "text/plain": [
       "362880"
      ]
     },
     "execution_count": 11,
     "metadata": {},
     "output_type": "execute_result"
    }
   ],
   "source": [
    "factorial(9)"
   ]
  },
  {
   "cell_type": "markdown",
   "id": "fbf0269d",
   "metadata": {},
   "source": [
    "Write a Python Program to Display the multiplication Table."
   ]
  },
  {
   "cell_type": "code",
   "execution_count": 3,
   "id": "f02fc533",
   "metadata": {},
   "outputs": [],
   "source": [
    "def multi_table(n):\n",
    "    '''\n",
    "    This function prints the multiplication table\n",
    "    \n",
    "    '''\n",
    "    i=1\n",
    "    while i!=11:\n",
    "        print(f\"{n}X{i}=\",n*i)\n",
    "        i+=1\n",
    "    \n",
    "    \n",
    "    \n",
    "    "
   ]
  },
  {
   "cell_type": "code",
   "execution_count": 5,
   "id": "cbb8cb37",
   "metadata": {},
   "outputs": [
    {
     "name": "stdout",
     "output_type": "stream",
     "text": [
      "12X1= 12\n",
      "12X2= 24\n",
      "12X3= 36\n",
      "12X4= 48\n",
      "12X5= 60\n",
      "12X6= 72\n",
      "12X7= 84\n",
      "12X8= 96\n",
      "12X9= 108\n",
      "12X10= 120\n"
     ]
    }
   ],
   "source": [
    "multi_table(12)"
   ]
  },
  {
   "cell_type": "markdown",
   "id": "ce40a34d",
   "metadata": {},
   "source": [
    "Write a Python Program to Print the Fibonacci sequence."
   ]
  },
  {
   "cell_type": "code",
   "execution_count": 15,
   "id": "9c3b402a",
   "metadata": {},
   "outputs": [
    {
     "name": "stdout",
     "output_type": "stream",
     "text": [
      "How many terms? 9\n",
      "Fibonacci sequence:\n",
      "0\n",
      "1\n",
      "1\n",
      "2\n",
      "3\n",
      "5\n",
      "8\n",
      "13\n",
      "21\n"
     ]
    }
   ],
   "source": [
    "nterms = int(input(\"How many terms? \"))\n",
    "\n",
    "n1, n2 = 0, 1\n",
    "count = 0\n",
    "\n",
    "\n",
    "if nterms <= 0:\n",
    "    \n",
    "    print(\"Please enter a positive integer\")\n",
    "\n",
    "elif nterms == 1:\n",
    "    print(\"Fibonacci sequence upto\",nterms,\":\")\n",
    "    print(n1)\n",
    "\n",
    "else:\n",
    "    print(\"Fibonacci sequence:\")\n",
    "    while count < nterms:\n",
    "        print(n1)\n",
    "        nth = n1 + n2\n",
    "        n1 = n2\n",
    "        n2 = nth\n",
    "        count += 1"
   ]
  },
  {
   "cell_type": "code",
   "execution_count": 18,
   "id": "aa5e5a69",
   "metadata": {},
   "outputs": [],
   "source": [
    "list1=\"123\""
   ]
  },
  {
   "cell_type": "code",
   "execution_count": 21,
   "id": "18dba6f4",
   "metadata": {},
   "outputs": [
    {
     "data": {
      "text/plain": [
       "'1'"
      ]
     },
     "execution_count": 21,
     "metadata": {},
     "output_type": "execute_result"
    }
   ],
   "source": [
    "list1[0]"
   ]
  },
  {
   "cell_type": "markdown",
   "id": "e2872fa1",
   "metadata": {},
   "source": [
    "Write a Python Program to Check Armstrong Number."
   ]
  },
  {
   "cell_type": "code",
   "execution_count": 75,
   "id": "bc513929",
   "metadata": {},
   "outputs": [],
   "source": [
    "def armstrong():\n",
    "    '''\n",
    "    This function checks if a number is an armstrong or not.\n",
    "    \n",
    "    '''\n",
    "    num=input('Please enter a number: ')\n",
    "    if len(num)<3:\n",
    "        print('0 and 1 are armstrong numbers!')\n",
    "    elif len(num)==3:\n",
    "        \n",
    "        if int(num[0])**3+int(num[1])**3+int(num[2])**3==int(num):\n",
    "            print(f\"The given number {num} is an armstrong number!\")\n",
    "            \n",
    "        else:\n",
    "            print(\"Not an armstrong number!\")\n",
    "    \n",
    "    else:\n",
    "        if int(num[0])**4+int(num[1])**4+int(num[2])**4+int(num[3])**4==int(num):\n",
    "             print(f\"The given number {num} is an armstrong number!\")\n",
    "        else:\n",
    "             print(\"Not an armstrong number!\")\n",
    "            \n",
    "        \n",
    "        \n",
    "    "
   ]
  },
  {
   "cell_type": "code",
   "execution_count": 76,
   "id": "d293f4af",
   "metadata": {},
   "outputs": [
    {
     "name": "stdout",
     "output_type": "stream",
     "text": [
      "Please enter a number: 8208\n",
      "The given number 8208 is an armstrong number!\n"
     ]
    }
   ],
   "source": [
    "armstrong()"
   ]
  },
  {
   "cell_type": "code",
   "execution_count": null,
   "id": "172f98fd",
   "metadata": {},
   "outputs": [],
   "source": [
    "Write a Python Program to Find Armstrong Number in an Interval."
   ]
  },
  {
   "cell_type": "code",
   "execution_count": 15,
   "id": "6203f3ba",
   "metadata": {},
   "outputs": [],
   "source": [
    "def arm_intv():\n",
    "    '''\n",
    "    This function returns any armstrong number in the interval! \n",
    "    \n",
    "    '''\n",
    "    \n",
    "    low=input(\"Please put in the lower limit: \")\n",
    "    upp=input(\"Please put in the upper limit: \")\n",
    "\n",
    " \n",
    "  \n",
    "    if int(low)>=0 and int(upp)<153:\n",
    "        print('Numbers 0 to 9 are the armstrongs beneath 153!')\n",
    "        \n",
    "    else:\n",
    "        \n",
    "        for i in range(int(low),int(upp)+1):\n",
    "            \n",
    "            i=str(i)\n",
    "            \n",
    "            if len(i)==3:\n",
    "                \n",
    "            \n",
    "                if int(i[0])**3+int(i[1])**3+int(i[2])**3==int(i):\n",
    "                    \n",
    "                    print(f\"{i} is an armstrong number in the given interval!\")\n",
    "                \n",
    "            elif len(i)==4:\n",
    "                \n",
    "                if int(i[0])**4+int(i[1])**4+int(i[2])**4+int(i[3])**4==int(i):\n",
    "                    \n",
    "                    print(f\"{i} is an armstrong number in the given interval!\")\n"
   ]
  },
  {
   "cell_type": "code",
   "execution_count": 16,
   "id": "db9b66f9",
   "metadata": {},
   "outputs": [
    {
     "name": "stdout",
     "output_type": "stream",
     "text": [
      "Please put in the lower limit: 1\n",
      "Please put in the upper limit: 10\n",
      "Numbers 0 to 9 are the armstrongs beneath 153!\n"
     ]
    }
   ],
   "source": [
    "arm_intv()"
   ]
  },
  {
   "cell_type": "markdown",
   "id": "65841923",
   "metadata": {},
   "source": [
    "Write a Python Program to Find the Sum of Natural Numbers."
   ]
  },
  {
   "cell_type": "code",
   "execution_count": 24,
   "id": "a8b983b0",
   "metadata": {},
   "outputs": [],
   "source": [
    "def natural_numbers(n):\n",
    "    '''\n",
    "    This function gives the sum of natural numbers upto a given limit.\n",
    "    '''\n",
    "    sum=1\n",
    "    for i in range(2,n+1):\n",
    "        sum+=i\n",
    "    return sum\n",
    "        \n",
    "    "
   ]
  },
  {
   "cell_type": "code",
   "execution_count": 25,
   "id": "167b3666",
   "metadata": {},
   "outputs": [
    {
     "data": {
      "text/plain": [
       "5050"
      ]
     },
     "execution_count": 25,
     "metadata": {},
     "output_type": "execute_result"
    }
   ],
   "source": [
    "natural_numbers(100)"
   ]
  }
 ],
 "metadata": {
  "kernelspec": {
   "display_name": "Python 3",
   "language": "python",
   "name": "python3"
  },
  "language_info": {
   "codemirror_mode": {
    "name": "ipython",
    "version": 3
   },
   "file_extension": ".py",
   "mimetype": "text/x-python",
   "name": "python",
   "nbconvert_exporter": "python",
   "pygments_lexer": "ipython3",
   "version": "3.8.8"
  }
 },
 "nbformat": 4,
 "nbformat_minor": 5
}
