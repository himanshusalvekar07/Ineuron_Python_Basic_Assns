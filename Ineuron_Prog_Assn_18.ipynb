{
 "cells": [
  {
   "cell_type": "markdown",
   "id": "9a182229",
   "metadata": {},
   "source": [
    "\n",
    "Question 1 Create a function that takes a list of non-negative integers and strings and return a new list without the strings."
   ]
  },
  {
   "cell_type": "code",
   "execution_count": 1,
   "id": "0f77efab",
   "metadata": {},
   "outputs": [
    {
     "name": "stdout",
     "output_type": "stream",
     "text": [
      "[1, 2]\n"
     ]
    }
   ],
   "source": [
    "def filter_list(lst):\n",
    "    result = []\n",
    "    for i in lst:\n",
    "        if str(i).isdigit():\n",
    "            result.append(i)\n",
    "    return result\n",
    "\n",
    "\n",
    "print(filter_list([1,2,\"a\",\"b\"]))"
   ]
  },
  {
   "cell_type": "markdown",
   "id": "3ad18901",
   "metadata": {},
   "source": [
    "Question 2 The \"Reverser\" takes a string as input and returns that string in reverse order, with the opposite case."
   ]
  },
  {
   "cell_type": "code",
   "execution_count": 2,
   "id": "1fa18ecb",
   "metadata": {},
   "outputs": [
    {
     "name": "stdout",
     "output_type": "stream",
     "text": [
      "DLROw OLLEh\n"
     ]
    }
   ],
   "source": [
    "def reverse(sentence):\n",
    "    sentence = sentence[::-1]\n",
    "    result = \"\"\n",
    "    for i in sentence:\n",
    "        if i.islower():\n",
    "            result += i.upper()\n",
    "        else:\n",
    "            result += i.lower()\n",
    "\n",
    "    return result\n",
    "\n",
    "\n",
    "print(reverse(\"Hello World\"))"
   ]
  },
  {
   "cell_type": "markdown",
   "id": "9bc94a20",
   "metadata": {},
   "source": [
    "Question 3 You can assign variables from lists like this:"
   ]
  },
  {
   "cell_type": "code",
   "execution_count": 3,
   "id": "6595e9ef",
   "metadata": {},
   "outputs": [
    {
     "name": "stdout",
     "output_type": "stream",
     "text": [
      "1\n",
      "[2, 3, 4, 5]\n",
      "6\n"
     ]
    },
    {
     "data": {
      "text/plain": [
       "[2, 3, 4, 5]"
      ]
     },
     "execution_count": 3,
     "metadata": {},
     "output_type": "execute_result"
    }
   ],
   "source": [
    "lst = [1, 2, 3, 4, 5, 6]\n",
    "first, *middle, last = lst\n",
    "\n",
    "print(first)\n",
    "print(middle)\n",
    "print(last)\n",
    "1\n",
    "[2, 3, 4, 5]"
   ]
  },
  {
   "cell_type": "markdown",
   "id": "a717361c",
   "metadata": {},
   "source": [
    "Question 4 Write a function that calculates the factorial of a number recursively."
   ]
  },
  {
   "cell_type": "code",
   "execution_count": 5,
   "id": "629efd5d",
   "metadata": {},
   "outputs": [
    {
     "name": "stdout",
     "output_type": "stream",
     "text": [
      "720\n"
     ]
    }
   ],
   "source": [
    "def factorial(n):\n",
    "    if n == 1:\n",
    "        return 1\n",
    "    return n*factorial(n-1)\n",
    "\n",
    "\n",
    "print(factorial(6))"
   ]
  },
  {
   "cell_type": "markdown",
   "id": "e92d5e66",
   "metadata": {},
   "source": [
    "Question 5 Write a function that moves all elements of one type to the end of the list."
   ]
  },
  {
   "cell_type": "code",
   "execution_count": 7,
   "id": "a574a534",
   "metadata": {},
   "outputs": [
    {
     "name": "stdout",
     "output_type": "stream",
     "text": [
      "['b', 'a', 'a', 'a']\n"
     ]
    }
   ],
   "source": [
    "def move_to_end(lst, num):\n",
    "    temp = []\n",
    "    while num in lst:\n",
    "        lst.remove(num)\n",
    "        temp.append(num)\n",
    "    lst.extend(temp)\n",
    "    return lst\n",
    "\n",
    "\n",
    "print(move_to_end([\"a\",\"a\",\"a\",\"b\"], \"a\"))"
   ]
  },
  {
   "cell_type": "code",
   "execution_count": null,
   "id": "a48ae83f",
   "metadata": {},
   "outputs": [],
   "source": []
  }
 ],
 "metadata": {
  "kernelspec": {
   "display_name": "Python 3 (ipykernel)",
   "language": "python",
   "name": "python3"
  },
  "language_info": {
   "codemirror_mode": {
    "name": "ipython",
    "version": 3
   },
   "file_extension": ".py",
   "mimetype": "text/x-python",
   "name": "python",
   "nbconvert_exporter": "python",
   "pygments_lexer": "ipython3",
   "version": "3.9.13"
  }
 },
 "nbformat": 4,
 "nbformat_minor": 5
}
