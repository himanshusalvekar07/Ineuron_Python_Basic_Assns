{
 "cells": [
  {
   "cell_type": "markdown",
   "id": "2b67268c",
   "metadata": {},
   "source": [
    "1]Create a list called years_list, starting with the year of your birth, and each year thereafter until the year of your fifth birthday. For example, if you were born in 1980. the list would be years_list = [1980, 1981, 1982, 1983, 1984, 1985]."
   ]
  },
  {
   "cell_type": "code",
   "execution_count": 2,
   "id": "9a047e76",
   "metadata": {},
   "outputs": [],
   "source": [
    "years_list = [1996,1997,1998,1999,2000,2001]"
   ]
  },
  {
   "cell_type": "markdown",
   "id": "7f52da26",
   "metadata": {},
   "source": [
    "2]In which year in years_list was your third birthday? Remember, you were 0 years of age for your first year."
   ]
  },
  {
   "cell_type": "code",
   "execution_count": 3,
   "id": "7a81f0eb",
   "metadata": {},
   "outputs": [
    {
     "data": {
      "text/plain": [
       "1998"
      ]
     },
     "execution_count": 3,
     "metadata": {},
     "output_type": "execute_result"
    }
   ],
   "source": [
    "years_list[2]"
   ]
  },
  {
   "cell_type": "markdown",
   "id": "cd6815c1",
   "metadata": {},
   "source": [
    "3]In the years list, which year were you the oldest?"
   ]
  },
  {
   "cell_type": "code",
   "execution_count": 4,
   "id": "58f10c3c",
   "metadata": {},
   "outputs": [
    {
     "data": {
      "text/plain": [
       "2001"
      ]
     },
     "execution_count": 4,
     "metadata": {},
     "output_type": "execute_result"
    }
   ],
   "source": [
    "years_list[-1]"
   ]
  },
  {
   "cell_type": "markdown",
   "id": "33edf617",
   "metadata": {},
   "source": [
    "4]Make a list called things with these three strings as elements: \"mozzarella\", \"cinderella\", \"salmonella\"."
   ]
  },
  {
   "cell_type": "code",
   "execution_count": 5,
   "id": "7ee76fe3",
   "metadata": {},
   "outputs": [
    {
     "data": {
      "text/plain": [
       "['mozzarella', 'cinderella', 'salmonella']"
      ]
     },
     "execution_count": 5,
     "metadata": {},
     "output_type": "execute_result"
    }
   ],
   "source": [
    "things = ['mozzarella','cinderella','salmonella']\n",
    "things"
   ]
  },
  {
   "cell_type": "markdown",
   "id": "7d0b52b9",
   "metadata": {},
   "source": [
    "5]Capitalize the element in things that refers to a person and then print the list. Did it change the element in the list?"
   ]
  },
  {
   "cell_type": "code",
   "execution_count": null,
   "id": "235020c2",
   "metadata": {},
   "outputs": [],
   "source": [
    "This capitalizes the word, but doesn’t change it in the list:"
   ]
  },
  {
   "cell_type": "code",
   "execution_count": 6,
   "id": "35cf3bfb",
   "metadata": {},
   "outputs": [
    {
     "data": {
      "text/plain": [
       "'Cinderella'"
      ]
     },
     "execution_count": 6,
     "metadata": {},
     "output_type": "execute_result"
    }
   ],
   "source": [
    "things_cap = things.copy()\n",
    "things_cap[1].capitalize()"
   ]
  },
  {
   "cell_type": "code",
   "execution_count": 7,
   "id": "784036e7",
   "metadata": {},
   "outputs": [
    {
     "data": {
      "text/plain": [
       "['mozzarella', 'cinderella', 'salmonella']"
      ]
     },
     "execution_count": 7,
     "metadata": {},
     "output_type": "execute_result"
    }
   ],
   "source": [
    "things_cap"
   ]
  },
  {
   "cell_type": "markdown",
   "id": "4f659732",
   "metadata": {},
   "source": [
    "6]Make a surprise list with the elements \"Groucho,\" \"Chico,\" and \"Harpo.\""
   ]
  },
  {
   "cell_type": "code",
   "execution_count": 8,
   "id": "7b5e8fd3",
   "metadata": {},
   "outputs": [
    {
     "data": {
      "text/plain": [
       "['Groucho', 'Chico', 'Harpo']"
      ]
     },
     "execution_count": 8,
     "metadata": {},
     "output_type": "execute_result"
    }
   ],
   "source": [
    "surprise = ['Groucho', 'Chico', 'Harpo']\n",
    "surprise"
   ]
  },
  {
   "cell_type": "markdown",
   "id": "4ec902e2",
   "metadata": {},
   "source": [
    "7]Lowercase the last element of the surprise list, reverse it, and then capitalize it."
   ]
  },
  {
   "cell_type": "code",
   "execution_count": 10,
   "id": "abf471d7",
   "metadata": {},
   "outputs": [
    {
     "data": {
      "text/plain": [
       "'Harpo'"
      ]
     },
     "execution_count": 10,
     "metadata": {},
     "output_type": "execute_result"
    }
   ],
   "source": [
    "surprise[-1] = surprise[-1].lower()\n",
    "surprise[-1] = surprise[-1][::-1]\n",
    "surprise[-1].capitalize()"
   ]
  },
  {
   "cell_type": "markdown",
   "id": "21e683ff",
   "metadata": {},
   "source": [
    "8]Make an English-to-French dictionary called e2f and print it. Here are your starter words: dog is chien, cat is chat, and walrus is morse."
   ]
  },
  {
   "cell_type": "code",
   "execution_count": 11,
   "id": "b1e74a14",
   "metadata": {},
   "outputs": [
    {
     "data": {
      "text/plain": [
       "{'dog': 'chien', 'cat': 'chat', 'walrus': 'morse'}"
      ]
     },
     "execution_count": 11,
     "metadata": {},
     "output_type": "execute_result"
    }
   ],
   "source": [
    "e2f = {'dog': 'chien', 'cat': 'chat', 'walrus': 'morse'}\n",
    "e2f"
   ]
  },
  {
   "cell_type": "markdown",
   "id": "d51588a4",
   "metadata": {},
   "source": [
    "9]Write the French word for walrus in your three-word dictionary e2f."
   ]
  },
  {
   "cell_type": "code",
   "execution_count": 12,
   "id": "358073dc",
   "metadata": {},
   "outputs": [
    {
     "data": {
      "text/plain": [
       "'morse'"
      ]
     },
     "execution_count": 12,
     "metadata": {},
     "output_type": "execute_result"
    }
   ],
   "source": [
    "e2f['walrus']"
   ]
  },
  {
   "cell_type": "markdown",
   "id": "448fbbfa",
   "metadata": {},
   "source": [
    "10]Make a French-to-English dictionary called f2e from e2f. Use the items method."
   ]
  },
  {
   "cell_type": "code",
   "execution_count": 13,
   "id": "be2e5bc8",
   "metadata": {},
   "outputs": [
    {
     "data": {
      "text/plain": [
       "{'chien': 'dog', 'chat': 'cat', 'morse': 'walrus'}"
      ]
     },
     "execution_count": 13,
     "metadata": {},
     "output_type": "execute_result"
    }
   ],
   "source": [
    "f2e = {}\n",
    "for english, french in e2f.items():\n",
    "    f2e[french] = english\n",
    "f2e"
   ]
  },
  {
   "cell_type": "markdown",
   "id": "676f870e",
   "metadata": {},
   "source": [
    "11]Print the English version of the French word chien using f2e."
   ]
  },
  {
   "cell_type": "code",
   "execution_count": 14,
   "id": "9565c1b4",
   "metadata": {},
   "outputs": [
    {
     "data": {
      "text/plain": [
       "'dog'"
      ]
     },
     "execution_count": 14,
     "metadata": {},
     "output_type": "execute_result"
    }
   ],
   "source": [
    "f2e['chien']"
   ]
  },
  {
   "cell_type": "markdown",
   "id": "5d779d93",
   "metadata": {},
   "source": [
    "12]Make and print a set of English words from the keys in e2f."
   ]
  },
  {
   "cell_type": "code",
   "execution_count": 15,
   "id": "ba575b33",
   "metadata": {},
   "outputs": [
    {
     "data": {
      "text/plain": [
       "{'cat', 'dog', 'walrus'}"
      ]
     },
     "execution_count": 15,
     "metadata": {},
     "output_type": "execute_result"
    }
   ],
   "source": [
    "set(e2f.keys())"
   ]
  },
  {
   "cell_type": "markdown",
   "id": "f5fb7a2e",
   "metadata": {},
   "source": [
    "13]Make a multilevel dictionary called life. Use these strings for the topmost keys: 'animals', 'plants', and 'other'. Make the 'animals' key refer to another dictionary with the keys 'cats', 'octopi', and 'emus'. Make the 'cats' key refer to a list of strings with the values 'Henri', 'Grumpy', and 'Lucy'. Make all the other keys refer to empty dictionaries."
   ]
  },
  {
   "cell_type": "code",
   "execution_count": 16,
   "id": "ae800904",
   "metadata": {},
   "outputs": [
    {
     "data": {
      "text/plain": [
       "{'animals': {'cats': ['Henri', 'Grumpy', 'Lucy'], 'octopi': {}, 'emus': {}},\n",
       " 'plants': {},\n",
       " 'other': {}}"
      ]
     },
     "execution_count": 16,
     "metadata": {},
     "output_type": "execute_result"
    }
   ],
   "source": [
    "life = {'animals': {'cats': ['Henri', 'Grumpy', 'Lucy'],'octopi': {},'emus': {}},'plants': {},'other': {}}\n",
    "life"
   ]
  },
  {
   "cell_type": "markdown",
   "id": "2aef6338",
   "metadata": {},
   "source": [
    "14]Print the top-level keys of life."
   ]
  },
  {
   "cell_type": "code",
   "execution_count": 18,
   "id": "8d5de359",
   "metadata": {},
   "outputs": [
    {
     "name": "stdout",
     "output_type": "stream",
     "text": [
      "dict_keys(['animals', 'plants', 'other'])\n"
     ]
    }
   ],
   "source": [
    "print(life.keys())\n"
   ]
  },
  {
   "cell_type": "markdown",
   "id": "3224c922",
   "metadata": {},
   "source": [
    "15]Print the keys for life['animals']."
   ]
  },
  {
   "cell_type": "code",
   "execution_count": 19,
   "id": "9c5590fc",
   "metadata": {},
   "outputs": [
    {
     "name": "stdout",
     "output_type": "stream",
     "text": [
      "dict_keys(['cats', 'octopi', 'emus'])\n"
     ]
    }
   ],
   "source": [
    "print(life['animals'].keys())"
   ]
  },
  {
   "cell_type": "markdown",
   "id": "1acc9697",
   "metadata": {},
   "source": [
    "16]Print the values for life['animals']['cats']."
   ]
  },
  {
   "cell_type": "code",
   "execution_count": 20,
   "id": "0c4648b9",
   "metadata": {},
   "outputs": [
    {
     "name": "stdout",
     "output_type": "stream",
     "text": [
      "['Henri', 'Grumpy', 'Lucy']\n"
     ]
    }
   ],
   "source": [
    "print(life['animals']['cats'])"
   ]
  }
 ],
 "metadata": {
  "kernelspec": {
   "display_name": "Python 3 (ipykernel)",
   "language": "python",
   "name": "python3"
  },
  "language_info": {
   "codemirror_mode": {
    "name": "ipython",
    "version": 3
   },
   "file_extension": ".py",
   "mimetype": "text/x-python",
   "name": "python",
   "nbconvert_exporter": "python",
   "pygments_lexer": "ipython3",
   "version": "3.9.13"
  }
 },
 "nbformat": 4,
 "nbformat_minor": 5
}
