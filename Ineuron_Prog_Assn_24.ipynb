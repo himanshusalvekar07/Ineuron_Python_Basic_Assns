{
 "cells": [
  {
   "cell_type": "markdown",
   "id": "a8ac0499",
   "metadata": {},
   "source": [
    "Question1 Create a function that takes an integer and returns a list from 1 to the given number, where:\n",
    "\n",
    "If the number can be divided evenly by 4, amplify it by 10 (i.e. return 10 times the\n",
    "number). 2. If the number cannot be divided evenly by 4, simply return the number."
   ]
  },
  {
   "cell_type": "code",
   "execution_count": 1,
   "id": "a5ebd275",
   "metadata": {},
   "outputs": [
    {
     "name": "stdout",
     "output_type": "stream",
     "text": [
      "[1, 2, 3, 40]\n"
     ]
    },
    {
     "data": {
      "text/plain": [
       "[1, 2, 3, 40]"
      ]
     },
     "execution_count": 1,
     "metadata": {},
     "output_type": "execute_result"
    }
   ],
   "source": [
    "def amplify(N):\n",
    "    return [i*10 if i%4==0 else i for i in range(1,N+1)]\n",
    "\n",
    "print(amplify(4))\n",
    "[1, 2, 3, 40]"
   ]
  },
  {
   "cell_type": "markdown",
   "id": "269386c6",
   "metadata": {},
   "source": [
    "Question2 Create a function that takes a list of numbers and return the number that's unique."
   ]
  },
  {
   "cell_type": "code",
   "execution_count": 2,
   "id": "72f8f98c",
   "metadata": {},
   "outputs": [
    {
     "name": "stdout",
     "output_type": "stream",
     "text": [
      "7\n"
     ]
    }
   ],
   "source": [
    "def unique(lst):\n",
    "    for i in lst:\n",
    "        if lst.count(i)==1:\n",
    "            return i\n",
    "\n",
    "print(unique([3, 3, 3, 7, 3, 3]))"
   ]
  },
  {
   "cell_type": "markdown",
   "id": "4523213c",
   "metadata": {},
   "source": [
    "Question3 Your task is to create a Circle constructor that creates a circle with a radius provided by an argument. The circles constructed must have two getters getArea() (PIr^2) and getPerimeter() (2PI*r) which give both respective areas and perimeter (circumference).\n",
    "\n"
   ]
  },
  {
   "cell_type": "code",
   "execution_count": 3,
   "id": "64a3e83f",
   "metadata": {},
   "outputs": [
    {
     "name": "stdout",
     "output_type": "stream",
     "text": [
      "380.132711084365\n",
      "27.897342763877365\n"
     ]
    }
   ],
   "source": [
    "import math\n",
    "\n",
    "\n",
    "class Circle:\n",
    "    def __init__(self, r):\n",
    "        self.r = r\n",
    "\n",
    "    def getArea(self):\n",
    "        return math.pi*(self.r**2)\n",
    "\n",
    "    def getParameter(self):\n",
    "        return 2*math.pi*self.r\n",
    "\n",
    "\n",
    "circle1 = Circle(11)\n",
    "print(circle1.getArea())\n",
    "\n",
    "circle2 = Circle(4.44)\n",
    "print(circle2.getParameter())"
   ]
  },
  {
   "cell_type": "code",
   "execution_count": null,
   "id": "16940f0c",
   "metadata": {},
   "outputs": [],
   "source": []
  }
 ],
 "metadata": {
  "kernelspec": {
   "display_name": "Python 3 (ipykernel)",
   "language": "python",
   "name": "python3"
  },
  "language_info": {
   "codemirror_mode": {
    "name": "ipython",
    "version": 3
   },
   "file_extension": ".py",
   "mimetype": "text/x-python",
   "name": "python",
   "nbconvert_exporter": "python",
   "pygments_lexer": "ipython3",
   "version": "3.9.13"
  }
 },
 "nbformat": 4,
 "nbformat_minor": 5
}
