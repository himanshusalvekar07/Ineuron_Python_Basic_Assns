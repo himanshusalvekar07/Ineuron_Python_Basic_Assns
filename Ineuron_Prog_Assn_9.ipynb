{
 "cells": [
  {
   "cell_type": "markdown",
   "id": "7fafedfb",
   "metadata": {},
   "source": [
    "Write a Python program to check if the given number is a Disarium Number?"
   ]
  },
  {
   "cell_type": "code",
   "execution_count": 2,
   "id": "caef9743",
   "metadata": {},
   "outputs": [
    {
     "name": "stdout",
     "output_type": "stream",
     "text": [
      "Enter a number: 157\n",
      "157 is not a disarium number\n",
      "Enter a number: 175\n",
      "175 is a disarium number\n"
     ]
    }
   ],
   "source": [
    "def calculateLength(n):    \n",
    "    length = 0\n",
    "    while(n != 0):    \n",
    "        length = length + 1  \n",
    "        n = n//10    \n",
    "    return length    \n",
    "     \n",
    "num =  int(input(\"Enter a number: \"))  \n",
    "rem = sum = 0\n",
    "len = calculateLength(num)    \n",
    "n = num    \n",
    "     \n",
    "while(num > 0):    \n",
    "    rem = num%10    \n",
    "    sum = sum + int(rem**len)    \n",
    "    num = num//10    \n",
    "    len = len - 1    \n",
    "     \n",
    "   \n",
    "if(sum == n):    \n",
    "    print(str(n) + \" is a disarium number\")    \n",
    "else:    \n",
    "    print(str(n) + \" is not a disarium number\")   \n",
    "\n",
    "def calculateLength(n):    \n",
    "    length = 0\n",
    "    while(n != 0):    \n",
    "        length = length + 1  \n",
    "        n = n//10    \n",
    "    return length    \n",
    "     \n",
    "num =  int(input(\"Enter a number: \"))  \n",
    "rem = sum = 0\n",
    "len = calculateLength(num)    \n",
    "n = num    \n",
    "     \n",
    "while(num > 0):    \n",
    "    rem = num%10    \n",
    "    sum = sum + int(rem**len)    \n",
    "    num = num//10    \n",
    "    len = len - 1    \n",
    "\n",
    "if(sum == n):    \n",
    "    print(str(n) + \" is a disarium number\")    \n",
    "else:    \n",
    "    print(str(n) + \" is not a disarium number\")   "
   ]
  },
  {
   "cell_type": "markdown",
   "id": "1a1f1ac8",
   "metadata": {},
   "source": [
    "Write a Python program to print all disarium numbers between 1 to 100?"
   ]
  },
  {
   "cell_type": "code",
   "execution_count": 3,
   "id": "4465140c",
   "metadata": {},
   "outputs": [
    {
     "name": "stdout",
     "output_type": "stream",
     "text": [
      "Enter lower range: 1\n",
      "Enter upper range: 100\n",
      "Disarium numbers between 1 and 100 are : \n",
      "1\n",
      "2\n",
      "3\n",
      "4\n",
      "5\n",
      "6\n",
      "7\n",
      "8\n",
      "9\n",
      "89\n"
     ]
    }
   ],
   "source": [
    "def calculateLength(n):    \n",
    "    length = 0    \n",
    "    while(n != 0):    \n",
    "        length = length + 1;    \n",
    "        n = n//10    \n",
    "    return length    \n",
    "\n",
    "def sumOfDigits(num):    \n",
    "    rem = sum = 0    \n",
    "    len = calculateLength(num)    \n",
    "        \n",
    "    while(num > 0):   \n",
    "        rem = num%10    \n",
    "        sum = sum + (rem**len)    \n",
    "        num = num//10    \n",
    "        len = len - 1    \n",
    "    return sum    \n",
    "      \n",
    "result = 0    \n",
    "lower_range = int(input(\"Enter lower range: \"))\n",
    "upper_range = int(input(\"Enter upper range: \"))\n",
    "print(\"Disarium numbers between {0} and {1} are : \".format(lower_range,upper_range))    \n",
    "for i in range(lower_range,upper_range):    \n",
    "    result = sumOfDigits(i)            \n",
    "    if(result == i):   \n",
    "        print(i)   "
   ]
  },
  {
   "cell_type": "markdown",
   "id": "3afa496c",
   "metadata": {},
   "source": [
    "Write a Python program to check if the given number is Happy Number?"
   ]
  },
  {
   "cell_type": "code",
   "execution_count": 5,
   "id": "5bb15a2c",
   "metadata": {},
   "outputs": [
    {
     "name": "stdout",
     "output_type": "stream",
     "text": [
      "Enter a number: 22\n",
      "22 is not a happy number\n",
      "Enter a number: 23\n",
      "23 is a happy number\n"
     ]
    }
   ],
   "source": [
    "def happy_number(num):    \n",
    "    rem = sum = 0     \n",
    "    while(num > 0):    \n",
    "        rem = num%10;    \n",
    "        sum = sum + (rem*rem);    \n",
    "        num = num//10    \n",
    "    return sum    \n",
    "        \n",
    "num = int(input(\"Enter a number: \"))    \n",
    "result = num    \n",
    "     \n",
    "while(result != 1 and result != 4):    \n",
    "    result = happy_number(result)    \n",
    " \n",
    "if(result == 1):    \n",
    "    print(str(num) + \" is a happy number\")    \n",
    "elif(result == 4):    \n",
    "    print(str(num) + \" is not a happy number\")   \n",
    "\n",
    "def happy_number(num):    \n",
    "    rem = sum = 0     \n",
    "    while(num > 0):    \n",
    "        rem = num%10;    \n",
    "        sum = sum + (rem*rem);    \n",
    "        num = num//10    \n",
    "    return sum    \n",
    "        \n",
    "num = int(input(\"Enter a number: \"))    \n",
    "result = num    \n",
    "     \n",
    "while(result != 1 and result != 4):    \n",
    "    result = happy_number(result)    \n",
    " \n",
    "if(result == 1):    \n",
    "    print(str(num) + \" is a happy number\")    \n",
    "elif(result == 4):    \n",
    "    print(str(num) + \" is not a happy number\")   "
   ]
  },
  {
   "cell_type": "markdown",
   "id": "897d81da",
   "metadata": {},
   "source": [
    "Write a Python program to print all happy numbers between 1 and 100?"
   ]
  },
  {
   "cell_type": "code",
   "execution_count": 6,
   "id": "d3404f76",
   "metadata": {},
   "outputs": [
    {
     "name": "stdout",
     "output_type": "stream",
     "text": [
      "Enter lower range: 1\n",
      "Enter upper range: 100\n",
      "List of happy numbers between 1 and 100 are : \n",
      "1\n",
      "7\n",
      "10\n",
      "13\n",
      "19\n",
      "23\n",
      "28\n",
      "31\n",
      "32\n",
      "44\n",
      "49\n",
      "68\n",
      "70\n",
      "79\n",
      "82\n",
      "86\n",
      "91\n",
      "94\n",
      "97\n",
      "100\n"
     ]
    }
   ],
   "source": [
    "def happy_number_interval(num):    \n",
    "    rem = sum = 0    \n",
    "    while(num > 0):    \n",
    "        rem = num%10    \n",
    "        sum = sum + (rem*rem)    \n",
    "        num = num//10    \n",
    "    return sum   \n",
    "            \n",
    "lower_range = int(input(\"Enter lower range: \"))\n",
    "upper_range = int(input(\"Enter upper range: \"))\n",
    "print(\"List of happy numbers between {0} and {1} are : \".format(lower_range,upper_range))\n",
    "for i in range(lower_range,upper_range+1):    \n",
    "    result = i    \n",
    "        \n",
    "    while(result != 1 and result != 4):    \n",
    "        result = happy_number_interval(result)    \n",
    "    if(result == 1):    \n",
    "        print(i)  "
   ]
  },
  {
   "cell_type": "markdown",
   "id": "b7f074e7",
   "metadata": {},
   "source": [
    "Write a Python program to determine whether the given number is a Harshad Number?"
   ]
  },
  {
   "cell_type": "code",
   "execution_count": 8,
   "id": "8a5cf0ff",
   "metadata": {},
   "outputs": [
    {
     "name": "stdout",
     "output_type": "stream",
     "text": [
      "Enter a number: 23\n",
      "23 is not a harshad number\n",
      "Enter a number: 254\n",
      "254 is not a harshad number\n"
     ]
    }
   ],
   "source": [
    "num = int(input(\"Enter a number: \"))    \n",
    "rem = sum = 0       \n",
    "n = num;       \n",
    "while(num > 0):    \n",
    "    rem = num%10   \n",
    "    sum = sum + rem   \n",
    "    num = num//10   \n",
    " \n",
    "if(n%sum == 0):    \n",
    "    print(str(n) + \" is a harshad number\")    \n",
    "else:    \n",
    "    print(str(n) + \" is not a harshad number\")   \n",
    "\n",
    "num = int(input(\"Enter a number: \"))    \n",
    "rem = sum = 0       \n",
    "n = num;       \n",
    "while(num > 0):    \n",
    "    rem = num%10   \n",
    "    sum = sum + rem   \n",
    "    num = num//10   \n",
    " \n",
    "if(n%sum == 0):    \n",
    "    print(str(n) + \" is a harshad number\")    \n",
    "else:    \n",
    "    print(str(n) + \" is not a harshad number\")  "
   ]
  },
  {
   "cell_type": "code",
   "execution_count": null,
   "id": "13f06f27",
   "metadata": {},
   "outputs": [],
   "source": []
  }
 ],
 "metadata": {
  "kernelspec": {
   "display_name": "Python 3 (ipykernel)",
   "language": "python",
   "name": "python3"
  },
  "language_info": {
   "codemirror_mode": {
    "name": "ipython",
    "version": 3
   },
   "file_extension": ".py",
   "mimetype": "text/x-python",
   "name": "python",
   "nbconvert_exporter": "python",
   "pygments_lexer": "ipython3",
   "version": "3.9.13"
  }
 },
 "nbformat": 4,
 "nbformat_minor": 5
}
