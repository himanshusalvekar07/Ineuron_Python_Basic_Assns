{
 "cells": [
  {
   "cell_type": "markdown",
   "id": "01fbae60",
   "metadata": {},
   "source": [
    "Question1. Write a function that stutters a word as if someone is struggling to read it. The first two letters are repeated twice with an ellipsis ... and space after each, and then the word is pronounced with a question mark ?."
   ]
  },
  {
   "cell_type": "code",
   "execution_count": 1,
   "id": "6a48451e",
   "metadata": {},
   "outputs": [
    {
     "name": "stdout",
     "output_type": "stream",
     "text": [
      "Enter the word asas\n",
      "as...as...asas?\n"
     ]
    }
   ],
   "source": [
    "word = input(\"Enter the word \")\n",
    "print(word[:2]+\"...\"+word[:2]+\"...\"+word+\"?\")"
   ]
  },
  {
   "cell_type": "markdown",
   "id": "e7bea0cf",
   "metadata": {},
   "source": [
    "Question 2.Create a function that takes an angle in radians and returns the corresponding angle in degrees rounded to one decimal place."
   ]
  },
  {
   "cell_type": "code",
   "execution_count": 2,
   "id": "21f22972",
   "metadata": {},
   "outputs": [
    {
     "name": "stdout",
     "output_type": "stream",
     "text": [
      "1145.9\n"
     ]
    }
   ],
   "source": [
    "import math\n",
    "\n",
    "\n",
    "def radians_to_degrees(radian):\n",
    "    degree = radian * 180 / math.pi\n",
    "    return round(degree, 1)\n",
    "\n",
    "print(radians_to_degrees(20))"
   ]
  },
  {
   "cell_type": "markdown",
   "id": "ca70620c",
   "metadata": {},
   "source": [
    "Question 3. In this challenge, establish if a given integer num is a Curzon number. If 1 plus 2 elevated to num is exactly divisible by 1 plus 2 multiplied by num, then num is a Curzon number. Given a non-negative integer num, implement a function that returns True if num is a Curzon number, or False otherwise."
   ]
  },
  {
   "cell_type": "code",
   "execution_count": 3,
   "id": "a875b6fe",
   "metadata": {},
   "outputs": [
    {
     "name": "stdout",
     "output_type": "stream",
     "text": [
      "True\n"
     ]
    }
   ],
   "source": [
    "def is_curzon(num):\n",
    "    x = 2**num + 1\n",
    "    y = 2*num + 1\n",
    "    return x % y == 0\n",
    "\n",
    "print(is_curzon(5))\n"
   ]
  },
  {
   "cell_type": "markdown",
   "id": "954594ce",
   "metadata": {},
   "source": [
    "Question 4.Given the side length x find the area of a hexagon."
   ]
  },
  {
   "cell_type": "code",
   "execution_count": 4,
   "id": "4656e861",
   "metadata": {},
   "outputs": [
    {
     "name": "stdout",
     "output_type": "stream",
     "text": [
      "10.4\n"
     ]
    }
   ],
   "source": [
    "def area_of_hexagon(s):\n",
    "    return round(3*(3**0.5)*(s**2)/2,1)\n",
    "\n",
    "\n",
    "print(area_of_hexagon(2))"
   ]
  },
  {
   "cell_type": "markdown",
   "id": "4c319a9e",
   "metadata": {},
   "source": [
    "Question 5. Create a function that returns a base-2 (binary) representation of a base-10 (decimal) string number. To convert is simple: ((2) means base-2 and (10) means base-10) 010101001(2) = 1 + 8 + 32 + 128. Going from right to left, the value of the most right bit is 1, now from that every bit to the left will be x2 the value, value of an 8 bit binary numbers are (256, 128, 64, 32, 16, 8, 4, 2, 1)."
   ]
  },
  {
   "cell_type": "code",
   "execution_count": null,
   "id": "28798cb0",
   "metadata": {},
   "outputs": [],
   "source": [
    "def binary(decimal):\n",
    "    binary = \"\"\n",
    "    while decimal>0:\n",
    "        binary += str(decimal%2)\n",
    "        decimal //= 2\n",
    "    return binary\n",
    "\n",
    "\n",
    "print(binary(5))"
   ]
  }
 ],
 "metadata": {
  "kernelspec": {
   "display_name": "Python 3 (ipykernel)",
   "language": "python",
   "name": "python3"
  },
  "language_info": {
   "codemirror_mode": {
    "name": "ipython",
    "version": 3
   },
   "file_extension": ".py",
   "mimetype": "text/x-python",
   "name": "python",
   "nbconvert_exporter": "python",
   "pygments_lexer": "ipython3",
   "version": "3.9.13"
  }
 },
 "nbformat": 4,
 "nbformat_minor": 5
}
