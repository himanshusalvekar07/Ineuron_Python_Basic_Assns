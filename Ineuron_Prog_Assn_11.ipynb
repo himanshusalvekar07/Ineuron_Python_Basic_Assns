{
 "cells": [
  {
   "cell_type": "code",
   "execution_count": null,
   "id": "3d417738",
   "metadata": {},
   "outputs": [],
   "source": [
    "1. Write a Python program to find words which are greater than given length k.?\n",
    "2. Write a Python program for removing i-th character from a string.?\n",
    "3. Write a Python program to split and join a string.?\n",
    "4. Write a Python to check if a given string is binary string or not.?\n",
    "5. Write a Python program to find uncommon words from two Strings.?\n",
    "6. Write a Python to find all duplicate characters in string.?\n",
    "7. Write a Python Program to check if a string contains any special character?"
   ]
  },
  {
   "cell_type": "markdown",
   "id": "4178dba3",
   "metadata": {},
   "source": [
    "1. Write a Python program to find words which are greater than given length k."
   ]
  },
  {
   "cell_type": "code",
   "execution_count": 20,
   "id": "ba2bd305",
   "metadata": {},
   "outputs": [],
   "source": [
    "def  len_k(k,sent):\n",
    "    \n",
    "    l1=[]\n",
    "\n",
    "    for i in sent.split():\n",
    "        if len(i)>k:\n",
    "            l1.append(i)\n",
    "    return l1"
   ]
  },
  {
   "cell_type": "code",
   "execution_count": 21,
   "id": "a285b3cc",
   "metadata": {},
   "outputs": [
    {
     "data": {
      "text/plain": [
       "['Himasnhu', 'Devashish', 'Abhishek']"
      ]
     },
     "execution_count": 21,
     "metadata": {},
     "output_type": "execute_result"
    }
   ],
   "source": [
    "len_k(6,\"Himasnhu Devashish Abhishek Dinesh\")"
   ]
  },
  {
   "cell_type": "markdown",
   "id": "6e4564b3",
   "metadata": {},
   "source": [
    "2. Write a Python program for removing i-th character from a string."
   ]
  },
  {
   "cell_type": "code",
   "execution_count": 79,
   "id": "fd63da5e",
   "metadata": {},
   "outputs": [
    {
     "name": "stdout",
     "output_type": "stream",
     "text": [
      "Burgrisgood\n"
     ]
    }
   ],
   "source": [
    "def remove_char(s, i):\n",
    "    a = s[ : i]\n",
    "    b = s[i + 1: ]\n",
    "\n",
    "    return a+b\n",
    "\n",
    "\n",
    "string=\"Burgerisgood\"\n",
    "i = 5\n",
    "print(remove_char(string,i-1))\n",
    "    \n",
    "    "
   ]
  },
  {
   "cell_type": "markdown",
   "id": "1d0ded90",
   "metadata": {},
   "source": [
    "Write a Python Program to check if a string contains any special character."
   ]
  },
  {
   "cell_type": "code",
   "execution_count": 29,
   "id": "9629f0f9",
   "metadata": {},
   "outputs": [],
   "source": [
    "def spcl_char(string):\n",
    "    \n",
    "    spcl_psnt=False\n",
    "    \n",
    "    for i in string:\n",
    "        \n",
    "        if i in ['@','#','$','&','*','!']:\n",
    "            \n",
    "            spcl_psnt=True\n",
    "            break\n",
    "            \n",
    "    if spcl_psnt:\n",
    "        \n",
    "        print(\"Spcl char presnt!\")\n",
    "        \n",
    "    else:\n",
    "        \n",
    "        print(\"No spcl char!\")\n",
    "\n",
    "    \n",
    "\n"
   ]
  },
  {
   "cell_type": "code",
   "execution_count": 31,
   "id": "df786606",
   "metadata": {},
   "outputs": [
    {
     "name": "stdout",
     "output_type": "stream",
     "text": [
      "No spcl char!\n"
     ]
    }
   ],
   "source": [
    "spcl_char(\"Himasnhu\")"
   ]
  },
  {
   "cell_type": "markdown",
   "id": "913010e4",
   "metadata": {},
   "source": [
    "6. Write a Python to find all duplicate characters in string."
   ]
  },
  {
   "cell_type": "code",
   "execution_count": 63,
   "id": "d7fa27d1",
   "metadata": {},
   "outputs": [],
   "source": [
    "def duplicate(string):\n",
    "    \n",
    "    dupl_char=[]\n",
    "    \n",
    "    for i in string.split():\n",
    "        for q in i:\n",
    "            if i.count(q)>1:\n",
    "                dupl_char.append(q)\n",
    "\n",
    "    return list(set(dupl_char))\n",
    "\n",
    "    for i in list(set(dupl_char)):\n",
    "        print(i)\n"
   ]
  },
  {
   "cell_type": "code",
   "execution_count": 64,
   "id": "f279afdb",
   "metadata": {},
   "outputs": [
    {
     "data": {
      "text/plain": [
       "['a', 'd']"
      ]
     },
     "execution_count": 64,
     "metadata": {},
     "output_type": "execute_result"
    }
   ],
   "source": [
    "duplicate(\"aaaa dddd\")"
   ]
  },
  {
   "cell_type": "markdown",
   "id": "7cd90b44",
   "metadata": {},
   "source": [
    " Write a Python program to find uncommon words from two Strings."
   ]
  },
  {
   "cell_type": "code",
   "execution_count": 71,
   "id": "5645b0b6",
   "metadata": {},
   "outputs": [],
   "source": [
    "def uncommon_chars(str1,str2):\n",
    "    \n",
    "    uncom2=[]\n",
    "    uncom1=[]\n",
    "    \n",
    "    for i in str1:\n",
    "         if i not in str2:\n",
    "                uncom1.append(i)\n",
    "                \n",
    "    for i in str2:\n",
    "         if i not in str1:\n",
    "                uncom2.append(i)\n",
    "    \n",
    "    uncom1.extend(uncom2)\n",
    "    return list(set(uncom1))\n",
    "    \n",
    "    \n",
    "    \n",
    "        "
   ]
  },
  {
   "cell_type": "code",
   "execution_count": 72,
   "id": "02703068",
   "metadata": {},
   "outputs": [
    {
     "data": {
      "text/plain": [
       "['e', 'n', 'm', 'u', 'a', 't']"
      ]
     },
     "execution_count": 72,
     "metadata": {},
     "output_type": "execute_result"
    }
   ],
   "source": [
    "uncommon_chars('Himanshu','Hitesh')"
   ]
  },
  {
   "cell_type": "markdown",
   "id": "04e08eff",
   "metadata": {},
   "source": [
    " Write a Python program to split and join a string."
   ]
  },
  {
   "cell_type": "code",
   "execution_count": 83,
   "id": "2b590f74",
   "metadata": {},
   "outputs": [],
   "source": [
    "def q3(s):\n",
    "    \n",
    "    \n",
    "\n",
    "    print(s.split(\" \"))\n",
    "\n",
    "    print(\"-\".join(s.split()))"
   ]
  },
  {
   "cell_type": "code",
   "execution_count": 85,
   "id": "ddc6957e",
   "metadata": {},
   "outputs": [
    {
     "name": "stdout",
     "output_type": "stream",
     "text": [
      "['Himanshu', 'Shantanu', 'Salvekar']\n",
      "Himanshu-Shantanu-Salvekar\n"
     ]
    }
   ],
   "source": [
    "q3(\"Himanshu Shantanu Salvekar\")"
   ]
  },
  {
   "cell_type": "markdown",
   "id": "ef57ca7d",
   "metadata": {},
   "source": [
    "Write a Python to check if a given string is binary string or not."
   ]
  },
  {
   "cell_type": "code",
   "execution_count": 86,
   "id": "2d188953",
   "metadata": {},
   "outputs": [
    {
     "name": "stdout",
     "output_type": "stream",
     "text": [
      "Binary String\n",
      "Non Binary String\n"
     ]
    }
   ],
   "source": [
    "def check(string) :\n",
    "    \n",
    "    b = set(string)\n",
    "    s = {'0', '1'}\n",
    "    if s == b or b == {'0'} or b == {'1'}:\n",
    "        print(\"Binary String\")\n",
    "    else :\n",
    "        print(\"Non Binary String\")\n",
    "  \n",
    "\n",
    "s1= \"00110101\"\n",
    "\n",
    "check(s1)\n",
    "s2 = \"1010100200111\"\n",
    "check(s2)"
   ]
  },
  {
   "cell_type": "code",
   "execution_count": null,
   "id": "46dfcfc8",
   "metadata": {},
   "outputs": [],
   "source": []
  }
 ],
 "metadata": {
  "kernelspec": {
   "display_name": "Python 3",
   "language": "python",
   "name": "python3"
  },
  "language_info": {
   "codemirror_mode": {
    "name": "ipython",
    "version": 3
   },
   "file_extension": ".py",
   "mimetype": "text/x-python",
   "name": "python",
   "nbconvert_exporter": "python",
   "pygments_lexer": "ipython3",
   "version": "3.8.8"
  }
 },
 "nbformat": 4,
 "nbformat_minor": 5
}
