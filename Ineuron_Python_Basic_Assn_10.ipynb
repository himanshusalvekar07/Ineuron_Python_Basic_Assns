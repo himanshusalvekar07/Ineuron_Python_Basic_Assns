{
 "cells": [
  {
   "cell_type": "markdown",
   "id": "3c88bcdb",
   "metadata": {},
   "source": [
    "How do you distinguish between shutil.copy() and shutil.copytree()?"
   ]
  },
  {
   "cell_type": "code",
   "execution_count": null,
   "id": "a2eeb635",
   "metadata": {},
   "outputs": [],
   "source": [
    "\"shutil.copy()\" will copy a single file.\"shutil.copytree()\" will copy an entire folder and every folder and file contained \n",
    "in it."
   ]
  },
  {
   "cell_type": "markdown",
   "id": "1edbb13d",
   "metadata": {},
   "source": [
    "What function is used to rename files?"
   ]
  },
  {
   "cell_type": "code",
   "execution_count": null,
   "id": "1ea824c5",
   "metadata": {},
   "outputs": [],
   "source": [
    "shutil.move will rename files."
   ]
  },
  {
   "cell_type": "markdown",
   "id": "23acbd81",
   "metadata": {},
   "source": [
    "What is the difference between the delete functions in the send2trash and shutil modules?"
   ]
  },
  {
   "cell_type": "code",
   "execution_count": null,
   "id": "4a78ace7",
   "metadata": {},
   "outputs": [],
   "source": [
    "shutil.rmtree() function irreversibly deletes files and folders. send2trash will send folders and files to computer's trash \n",
    "or recycle bin instead of permanently deleting them."
   ]
  },
  {
   "cell_type": "markdown",
   "id": "9858e0b3",
   "metadata": {},
   "source": [
    "ZipFile objects have a close() method just like File objects’ close() method. What ZipFile method is equivalent to File \n",
    "objects’ open() method?"
   ]
  },
  {
   "cell_type": "code",
   "execution_count": null,
   "id": "bc2f7fb7",
   "metadata": {},
   "outputs": [],
   "source": [
    "ZipFile method is equivalant to File objects' open() method. For example,"
   ]
  },
  {
   "cell_type": "code",
   "execution_count": 1,
   "id": "d74571ba",
   "metadata": {},
   "outputs": [],
   "source": [
    "import zipfile\n",
    "newZip = zipfile.ZipFile('new.zip', 'w')"
   ]
  },
  {
   "cell_type": "code",
   "execution_count": null,
   "id": "28aa0701",
   "metadata": {},
   "outputs": [],
   "source": [
    "Create a programme that searches a folder tree for files with a certain file extension (such as .pdf or .jpg). Copy these \n",
    "files from whatever location they are in to a new folder."
   ]
  },
  {
   "cell_type": "code",
   "execution_count": 2,
   "id": "8e50a953",
   "metadata": {},
   "outputs": [
    {
     "name": "stdout",
     "output_type": "stream",
     "text": [
      "Looking in C:\\Users\\devas\\Desktop\\sample_project_1\\Ineuron_Assignments\\randomFolder for files with extensions of .php, .py\n"
     ]
    }
   ],
   "source": [
    "import os, shutil\n",
    "\n",
    "def selectiveCopy(folder, extensions, destFolder):\n",
    "    folder = os.path.abspath(folder)\n",
    "    destFolder = os.path.abspath(destFolder)\n",
    "    print('Looking in', folder, 'for files with extensions of', ', '.join(extensions))\n",
    "    for foldername, subfolders, filenames in os.walk(folder):\n",
    "        for filename in filenames:\n",
    "            name, extension = os.path.splitext(filename)\n",
    "            if extension in extensions:\n",
    "                fileAbsPath = foldername + os.path.sep + filename\n",
    "                print('Coping', fileAbsPath, 'to', destFolder)\n",
    "                shutil.copy(fileAbsPath, destFolder)\n",
    "\n",
    "extensions = ['.php', '.py']\n",
    "folder = 'randomFolder'\n",
    "destFolder = 'selectiveFolder'\n",
    "selectiveCopy(folder, extensions, destFolder)"
   ]
  },
  {
   "cell_type": "code",
   "execution_count": null,
   "id": "db62ab4a",
   "metadata": {},
   "outputs": [],
   "source": []
  }
 ],
 "metadata": {
  "kernelspec": {
   "display_name": "Python 3",
   "language": "python",
   "name": "python3"
  },
  "language_info": {
   "codemirror_mode": {
    "name": "ipython",
    "version": 3
   },
   "file_extension": ".py",
   "mimetype": "text/x-python",
   "name": "python",
   "nbconvert_exporter": "python",
   "pygments_lexer": "ipython3",
   "version": "3.8.8"
  }
 },
 "nbformat": 4,
 "nbformat_minor": 5
}
