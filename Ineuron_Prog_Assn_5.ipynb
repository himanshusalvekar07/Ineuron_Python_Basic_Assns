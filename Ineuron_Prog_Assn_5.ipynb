{
 "cells": [
  {
   "cell_type": "code",
   "execution_count": null,
   "id": "5b5f73b2",
   "metadata": {},
   "outputs": [],
   "source": [
    "1. Write a Python Program to Find LCM. ?\n",
    "2. Write a Python Program to Find HCF.?\n",
    "3. Write a Python Program to Convert Decimal to Binary, Octal and Hexadecimal.?\n",
    "4. Write a Python Program To Find ASCII value of a character.?\n",
    "5. Write a Python Program to Make a Simple Calculator with 4 basic mathematical operations.?"
   ]
  },
  {
   "cell_type": "markdown",
   "id": "69352221",
   "metadata": {},
   "source": [
    "1. Write a Python Program to Find LCM."
   ]
  },
  {
   "cell_type": "code",
   "execution_count": 1,
   "id": "0ebb6769",
   "metadata": {},
   "outputs": [],
   "source": [
    "def LCM():\n",
    "    \n",
    "    '''\n",
    "    This function gives the LCM of two numbers.\n",
    "    \n",
    "    '''\n",
    "    \n",
    "        \n",
    "    lcm=0\n",
    "    \n",
    "    a=int(input(\"Enter first num: \"))\n",
    "    b=int(input(\"Enter second num: \"))\n",
    "    \n",
    "    if a>b:\n",
    "        greater=a\n",
    "    else:\n",
    "        greater=b\n",
    "    \n",
    "    \n",
    "    \n",
    "    while(True):\n",
    "            \n",
    "            \n",
    "            \n",
    "        if((greater%a==0) and (greater%b==0)):\n",
    "                \n",
    "            lcm=greater\n",
    "            break\n",
    "        greater+=1\n",
    "\n",
    "    print(f\"LCM is: {lcm}\")\n",
    "    \n",
    "\n",
    "    "
   ]
  },
  {
   "cell_type": "code",
   "execution_count": 2,
   "id": "a2f00557",
   "metadata": {},
   "outputs": [
    {
     "name": "stdout",
     "output_type": "stream",
     "text": [
      "Enter first num: 3\n",
      "Enter second num: 4\n",
      "LCM is: 12\n",
      "None\n"
     ]
    }
   ],
   "source": [
    "print(LCM())"
   ]
  },
  {
   "cell_type": "markdown",
   "id": "32307fd7",
   "metadata": {},
   "source": [
    "2. Write a Python Program to Find HCF."
   ]
  },
  {
   "cell_type": "code",
   "execution_count": 7,
   "id": "00ad99db",
   "metadata": {},
   "outputs": [],
   "source": [
    "def hcf():\n",
    "    \n",
    "    '''\n",
    "    This function returns the HCF of any two input numbers inputted. \n",
    "    \n",
    "    '''\n",
    "    \n",
    "        \n",
    "    l1=[]\n",
    "    hcf=0\n",
    "    \n",
    "    n1=int(input(\"Please enter the first number: \"))\n",
    "    n2=int(input(\"Please enter the second number: \"))\n",
    "    \n",
    "    if n1>n2:\n",
    "        greater=n1\n",
    "    else:\n",
    "        greater=n2\n",
    "    \n",
    "    if greater==n1:\n",
    "        for i in range(1,n2):\n",
    "            if (n1%i==0) and (n2%i==0):\n",
    "                l1.append(i)\n",
    "        l1.sort()\n",
    "        hcf=l1[-1]\n",
    "        return hcf\n",
    "    \n",
    "    if greater==n2:\n",
    "        for i in range(1,n1):\n",
    "            if (n1%i==0) and (n2%i==0):\n",
    "                l1.append(i)\n",
    "        l1.sort()\n",
    "        hcf=l1[-1]\n",
    "        return hcf\n",
    "\n",
    "            \n",
    "        \n",
    "    "
   ]
  },
  {
   "cell_type": "code",
   "execution_count": 8,
   "id": "9528028f",
   "metadata": {},
   "outputs": [
    {
     "name": "stdout",
     "output_type": "stream",
     "text": [
      "Please enter the first number: 4\n",
      "Please enter the second number: 5\n"
     ]
    },
    {
     "data": {
      "text/plain": [
       "1"
      ]
     },
     "execution_count": 8,
     "metadata": {},
     "output_type": "execute_result"
    }
   ],
   "source": [
    "hcf()"
   ]
  },
  {
   "cell_type": "markdown",
   "id": "daa95480",
   "metadata": {},
   "source": [
    "5. Write a Python Program to Make a Simple Calculator with 4 basic mathematical operations."
   ]
  },
  {
   "cell_type": "code",
   "execution_count": null,
   "id": "219a9d83",
   "metadata": {},
   "outputs": [],
   "source": [
    "import logging\n",
    "logging.basicConfig(filename=\"test7.log\",level=logging.DEBUG,format=\"%(asctime)s %(levelname)s %(message)s\")\n",
    "\n",
    "class Calculator:\n",
    "    \n",
    "    def addition(self,*args):\n",
    "        logging.info(\"Start of addintion method!\")\n",
    "        try:\n",
    "            logging.info(\"Inside Try block of addition!\")\n",
    "            sum=0\n",
    "            for i in list(args):\n",
    "                sum+=i\n",
    "            return sum\n",
    "        except Exception as e:\n",
    "            logging.error(\"Error occured\")\n",
    "            logging .exception(\"Some exception occured \"  +  e)\n",
    "            \n",
    "        \n",
    "    def subtraction(self,no1,no2):\n",
    "        \n",
    "        logging.info(\"Start of subtraction method!\")\n",
    "        \n",
    "        try:\n",
    "            \n",
    "            no1 = int(no1)\n",
    "            no2 = int(no2)\n",
    "            if no1>no2:\n",
    "                ans = no1-no2\n",
    "            else:\n",
    "                print(\"Given number 1 is greater than 2\")\n",
    "                return\n",
    "            \n",
    "            print(f\"subtraction of {no1} and {no2} is {str(ans)}\")\n",
    "        except Exception as e:\n",
    "            logging.error(\"there is some issue with subtraction fn\")\n",
    "            logging.error(e)\n",
    "    \n",
    "        \n",
    "    def multiplication(self,*args):\n",
    "        \n",
    "        logging.info(\"Start of multiplication method!\")\n",
    "        \n",
    "        try:\n",
    "            \n",
    "            logging.info(\"Inside Try block of Multiplilcation.\")\n",
    "            ans=1\n",
    "            for i in list(args):\n",
    "                ans*=i\n",
    "            print(f\"Multiplication of given numbers:{args} is {ans}\")\n",
    "        \n",
    "        \n",
    "        \n",
    "        except Exception as e:\n",
    "            \n",
    "            logging.error(\"Oops! Some error occured!\")\n",
    "            logging.exception(\"This excp occured:\"  +  e)\n",
    "    \n",
    "    \n",
    "    def division(self,no1,no2):\n",
    "        \n",
    "        logging.info(\"Start of Division method func!\")\n",
    "        \n",
    "        try:\n",
    "            if no1>no2:\n",
    "                ans=no1/no2\n",
    "            else:\n",
    "                print(\"Given number no1 is grater than no2\")\n",
    "                return\n",
    "            \n",
    "            print(f\"division of {no1} and {no2} is {str(ans)}\")\n",
    "        except Exception as e:\n",
    "            \n",
    "            logging.error(\"there is some issue with division fn\")\n",
    "            logging.error(e)\n",
    "    \n",
    "                \n",
    "    def log(self,no1):\n",
    "        \n",
    "        no1 = float(no1)\n",
    "        \n",
    "        logging.info(\"this is start of logarithm fn\")\n",
    "        try:\n",
    "            logging.info(\"inside try block of logarithm fn\")\n",
    "                     \n",
    "            ans = math.log(no1)            \n",
    "            print(f\"log of {no1} is {ans}\")\n",
    "            return\n",
    "            \n",
    "            print(f\"division of {no1} and {no2} is {str(ans)}\")\n",
    "            \n",
    "        except Exception as e:\n",
    "            \n",
    "            logging.error(\"there is some issue with .logarithm fn\")\n",
    "            logging.error(e)\n",
    "        \n",
    "        "
   ]
  },
  {
   "cell_type": "markdown",
   "id": "b5896205",
   "metadata": {},
   "source": [
    "3. Write a Python Program to Convert Decimal to Binary, Octal and Hexadecimal."
   ]
  },
  {
   "cell_type": "code",
   "execution_count": 13,
   "id": "de9f669b",
   "metadata": {},
   "outputs": [
    {
     "name": "stdout",
     "output_type": "stream",
     "text": [
      " Enter the Decimal Number: 123\n",
      "The given decimal number 123 in Binary number is:  0b1111011\n",
      "The given decimal number 123 in Octal number is:  0o173\n",
      "The given decimal number 123  in Hexadecimal number is:  0x7b\n"
     ]
    }
   ],
   "source": [
    "def decimal_into_binary(decimal_1):  \n",
    "    decimal = int(decimal_1)  \n",
    "    \n",
    "     \n",
    "    print (\"The given decimal number\", decimal, \"in Binary number is: \", bin(decimal))  \n",
    "\n",
    "def decimal_into_octal(decimal_1):  \n",
    "    decimal = int(decimal_1)  \n",
    "    \n",
    "    \n",
    "    print (\"The given decimal number\", decimal, \"in Octal number is: \", oct(decimal))  \n",
    " \n",
    "def decimal_into_hexadecimal(decimal_1):  \n",
    "    decimal = int(decimal_1)  \n",
    "    \n",
    "\n",
    "    print (\"The given decimal number\", decimal, \" in Hexadecimal number is: \", hex(decimal))\n",
    "\n",
    "decimal_1 = int (input (\" Enter the Decimal Number: \"))  \n",
    "decimal_into_binary(decimal_1)  \n",
    "decimal_into_octal(decimal_1)  \n",
    "decimal_into_hexadecimal(decimal_1)  "
   ]
  },
  {
   "cell_type": "markdown",
   "id": "cc270908",
   "metadata": {},
   "source": [
    "4. Write a Python Program To Find ASCII value of a character."
   ]
  },
  {
   "cell_type": "code",
   "execution_count": 10,
   "id": "851f995c",
   "metadata": {},
   "outputs": [
    {
     "name": "stdout",
     "output_type": "stream",
     "text": [
      "Please enter a character: s\n",
      "The ASCII value of 's' is  115\n"
     ]
    }
   ],
   "source": [
    "K = input(\"Please enter a character: \")    \n",
    "    \n",
    "print (\"The ASCII value of '\" + K + \"' is \", ord(K))  "
   ]
  },
  {
   "cell_type": "code",
   "execution_count": null,
   "id": "54183aa7",
   "metadata": {},
   "outputs": [],
   "source": []
  }
 ],
 "metadata": {
  "kernelspec": {
   "display_name": "Python 3",
   "language": "python",
   "name": "python3"
  },
  "language_info": {
   "codemirror_mode": {
    "name": "ipython",
    "version": 3
   },
   "file_extension": ".py",
   "mimetype": "text/x-python",
   "name": "python",
   "nbconvert_exporter": "python",
   "pygments_lexer": "ipython3",
   "version": "3.8.8"
  }
 },
 "nbformat": 4,
 "nbformat_minor": 5
}
