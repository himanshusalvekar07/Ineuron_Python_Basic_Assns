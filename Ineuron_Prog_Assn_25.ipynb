{
 "cells": [
  {
   "cell_type": "markdown",
   "id": "552d7a7a",
   "metadata": {},
   "source": [
    "Question1 Create a function that takes three integer arguments (a, b, c) and returns the amount of integers which are of equal value."
   ]
  },
  {
   "cell_type": "code",
   "execution_count": 1,
   "id": "161b60ea",
   "metadata": {},
   "outputs": [
    {
     "name": "stdout",
     "output_type": "stream",
     "text": [
      "2\n"
     ]
    }
   ],
   "source": [
    "def equal(a,b,c):\n",
    "    if a==b==c:\n",
    "        return 3\n",
    "    elif a==b or b==c or a==c:\n",
    "        return 2\n",
    "    else:\n",
    "        return 0\n",
    "\n",
    "print(equal(3, 4, 3))"
   ]
  },
  {
   "cell_type": "markdown",
   "id": "8290f6b3",
   "metadata": {},
   "source": [
    "Question2 Write a function that converts a dictionary into a list of keys-values tuples."
   ]
  },
  {
   "cell_type": "code",
   "execution_count": 2,
   "id": "37bf9e9e",
   "metadata": {},
   "outputs": [
    {
     "name": "stdout",
     "output_type": "stream",
     "text": [
      "[('B', 2), ('C', 3), ('D', 1)]\n"
     ]
    }
   ],
   "source": [
    "def dict_to_list(dict):\n",
    "    keys = sorted([key for key in dict.keys()])\n",
    "    return [(key,dict[key]) for key in keys]\n",
    "\n",
    "print(dict_to_list({\"D\":1, \"B\":2, \"C\":3}))"
   ]
  },
  {
   "cell_type": "markdown",
   "id": "10714aa1",
   "metadata": {},
   "source": [
    "Question3 Write a function that creates a dictionary with each (key, value) pair being the (lower case, upper case) versions of a letter, respectively."
   ]
  },
  {
   "cell_type": "code",
   "execution_count": 3,
   "id": "916c0ca7",
   "metadata": {},
   "outputs": [
    {
     "name": "stdout",
     "output_type": "stream",
     "text": [
      "{'p': 'P', 's': 'S'}\n"
     ]
    },
    {
     "data": {
      "text/plain": [
       "{'p': 'P', 's': 'S'}"
      ]
     },
     "execution_count": 3,
     "metadata": {},
     "output_type": "execute_result"
    }
   ],
   "source": [
    "def mapping(lst):\n",
    "    dict ={}\n",
    "    for i in lst:\n",
    "        dict[i] = i.upper()\n",
    "    return dict\n",
    "\n",
    "print(mapping([\"p\",\"s\"]))\n",
    "{'p': 'P', 's': 'S'}"
   ]
  },
  {
   "cell_type": "markdown",
   "id": "76566e34",
   "metadata": {},
   "source": [
    "Question4 Write a function, that replaces all vowels in a string with a specified vowel.\n",
    "\n"
   ]
  },
  {
   "cell_type": "code",
   "execution_count": 4,
   "id": "9132ddec",
   "metadata": {},
   "outputs": [
    {
     "name": "stdout",
     "output_type": "stream",
     "text": [
      "chooso cossorolo\n"
     ]
    }
   ],
   "source": [
    "def vow_replace(word, vow):\n",
    "    for i in word:\n",
    "        if i in \"aeioud\":\n",
    "            word = word.replace(i,vow)\n",
    "    return word\n",
    "\n",
    "\n",
    "print(vow_replace(\"cheese casserole\", \"o\"))"
   ]
  },
  {
   "cell_type": "markdown",
   "id": "e2cac9ea",
   "metadata": {},
   "source": [
    "Question5 Create a function that takes a string as input and capitalizes a letter if its ASCII code is even and returns its lower case version if its ASCII code is odd."
   ]
  },
  {
   "cell_type": "code",
   "execution_count": 5,
   "id": "e603cd91",
   "metadata": {},
   "outputs": [
    {
     "name": "stdout",
     "output_type": "stream",
     "text": [
      "THe LiTTLe meRmaiD\n"
     ]
    }
   ],
   "source": [
    "def ascii_capitalize(sentence):\n",
    "    result = \"\"\n",
    "    for i in sentence:\n",
    "        if ord(i)%2==0:\n",
    "            result += i.upper()\n",
    "        else:\n",
    "            result += i.lower()\n",
    "    return result\n",
    "\n",
    "print(ascii_capitalize(\"THE LITTLE MERMAID\"))"
   ]
  },
  {
   "cell_type": "code",
   "execution_count": null,
   "id": "8cbf518b",
   "metadata": {},
   "outputs": [],
   "source": []
  }
 ],
 "metadata": {
  "kernelspec": {
   "display_name": "Python 3 (ipykernel)",
   "language": "python",
   "name": "python3"
  },
  "language_info": {
   "codemirror_mode": {
    "name": "ipython",
    "version": 3
   },
   "file_extension": ".py",
   "mimetype": "text/x-python",
   "name": "python",
   "nbconvert_exporter": "python",
   "pygments_lexer": "ipython3",
   "version": "3.9.13"
  }
 },
 "nbformat": 4,
 "nbformat_minor": 5
}
